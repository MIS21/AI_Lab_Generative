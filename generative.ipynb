{
  "nbformat": 4,
  "nbformat_minor": 0,
  "metadata": {
    "colab": {
      "provenance": [],
      "gpuType": "T4"
    },
    "kernelspec": {
      "name": "python3",
      "display_name": "Python 3"
    },
    "language_info": {
      "name": "python"
    },
    "accelerator": "GPU"
  },
  "cells": [
    {
      "cell_type": "code",
      "source": [
        "from google.colab import files\n",
        "import sqlite3\n",
        "import numpy as np\n",
        "from tensorflow.keras.models import Sequential\n",
        "from tensorflow.keras.layers import SimpleRNN, Dense, Embedding, Bidirectional, LSTM\n",
        "from tensorflow.keras.preprocessing.text import Tokenizer\n",
        "from tensorflow.keras.preprocessing.sequence import pad_sequences\n",
        "from keras.utils import to_categorical\n",
        "import sentencepiece as spm"
      ],
      "metadata": {
        "id": "lIrvtFyXvLIP"
      },
      "execution_count": 8,
      "outputs": []
    },
    {
      "cell_type": "code",
      "execution_count": 2,
      "metadata": {
        "colab": {
          "base_uri": "https://localhost:8080/",
          "height": 385
        },
        "id": "olBJxu3rVzvo",
        "outputId": "6e3cd900-b185-4af0-dda2-97fb9a50128f"
      },
      "outputs": [
        {
          "output_type": "display_data",
          "data": {
            "text/plain": [
              "<IPython.core.display.HTML object>"
            ],
            "text/html": [
              "\n",
              "     <input type=\"file\" id=\"files-aafa8ab7-0003-4f98-877c-272108eea1ba\" name=\"files[]\" multiple disabled\n",
              "        style=\"border:none\" />\n",
              "     <output id=\"result-aafa8ab7-0003-4f98-877c-272108eea1ba\">\n",
              "      Upload widget is only available when the cell has been executed in the\n",
              "      current browser session. Please rerun this cell to enable.\n",
              "      </output>\n",
              "      <script>// Copyright 2017 Google LLC\n",
              "//\n",
              "// Licensed under the Apache License, Version 2.0 (the \"License\");\n",
              "// you may not use this file except in compliance with the License.\n",
              "// You may obtain a copy of the License at\n",
              "//\n",
              "//      http://www.apache.org/licenses/LICENSE-2.0\n",
              "//\n",
              "// Unless required by applicable law or agreed to in writing, software\n",
              "// distributed under the License is distributed on an \"AS IS\" BASIS,\n",
              "// WITHOUT WARRANTIES OR CONDITIONS OF ANY KIND, either express or implied.\n",
              "// See the License for the specific language governing permissions and\n",
              "// limitations under the License.\n",
              "\n",
              "/**\n",
              " * @fileoverview Helpers for google.colab Python module.\n",
              " */\n",
              "(function(scope) {\n",
              "function span(text, styleAttributes = {}) {\n",
              "  const element = document.createElement('span');\n",
              "  element.textContent = text;\n",
              "  for (const key of Object.keys(styleAttributes)) {\n",
              "    element.style[key] = styleAttributes[key];\n",
              "  }\n",
              "  return element;\n",
              "}\n",
              "\n",
              "// Max number of bytes which will be uploaded at a time.\n",
              "const MAX_PAYLOAD_SIZE = 100 * 1024;\n",
              "\n",
              "function _uploadFiles(inputId, outputId) {\n",
              "  const steps = uploadFilesStep(inputId, outputId);\n",
              "  const outputElement = document.getElementById(outputId);\n",
              "  // Cache steps on the outputElement to make it available for the next call\n",
              "  // to uploadFilesContinue from Python.\n",
              "  outputElement.steps = steps;\n",
              "\n",
              "  return _uploadFilesContinue(outputId);\n",
              "}\n",
              "\n",
              "// This is roughly an async generator (not supported in the browser yet),\n",
              "// where there are multiple asynchronous steps and the Python side is going\n",
              "// to poll for completion of each step.\n",
              "// This uses a Promise to block the python side on completion of each step,\n",
              "// then passes the result of the previous step as the input to the next step.\n",
              "function _uploadFilesContinue(outputId) {\n",
              "  const outputElement = document.getElementById(outputId);\n",
              "  const steps = outputElement.steps;\n",
              "\n",
              "  const next = steps.next(outputElement.lastPromiseValue);\n",
              "  return Promise.resolve(next.value.promise).then((value) => {\n",
              "    // Cache the last promise value to make it available to the next\n",
              "    // step of the generator.\n",
              "    outputElement.lastPromiseValue = value;\n",
              "    return next.value.response;\n",
              "  });\n",
              "}\n",
              "\n",
              "/**\n",
              " * Generator function which is called between each async step of the upload\n",
              " * process.\n",
              " * @param {string} inputId Element ID of the input file picker element.\n",
              " * @param {string} outputId Element ID of the output display.\n",
              " * @return {!Iterable<!Object>} Iterable of next steps.\n",
              " */\n",
              "function* uploadFilesStep(inputId, outputId) {\n",
              "  const inputElement = document.getElementById(inputId);\n",
              "  inputElement.disabled = false;\n",
              "\n",
              "  const outputElement = document.getElementById(outputId);\n",
              "  outputElement.innerHTML = '';\n",
              "\n",
              "  const pickedPromise = new Promise((resolve) => {\n",
              "    inputElement.addEventListener('change', (e) => {\n",
              "      resolve(e.target.files);\n",
              "    });\n",
              "  });\n",
              "\n",
              "  const cancel = document.createElement('button');\n",
              "  inputElement.parentElement.appendChild(cancel);\n",
              "  cancel.textContent = 'Cancel upload';\n",
              "  const cancelPromise = new Promise((resolve) => {\n",
              "    cancel.onclick = () => {\n",
              "      resolve(null);\n",
              "    };\n",
              "  });\n",
              "\n",
              "  // Wait for the user to pick the files.\n",
              "  const files = yield {\n",
              "    promise: Promise.race([pickedPromise, cancelPromise]),\n",
              "    response: {\n",
              "      action: 'starting',\n",
              "    }\n",
              "  };\n",
              "\n",
              "  cancel.remove();\n",
              "\n",
              "  // Disable the input element since further picks are not allowed.\n",
              "  inputElement.disabled = true;\n",
              "\n",
              "  if (!files) {\n",
              "    return {\n",
              "      response: {\n",
              "        action: 'complete',\n",
              "      }\n",
              "    };\n",
              "  }\n",
              "\n",
              "  for (const file of files) {\n",
              "    const li = document.createElement('li');\n",
              "    li.append(span(file.name, {fontWeight: 'bold'}));\n",
              "    li.append(span(\n",
              "        `(${file.type || 'n/a'}) - ${file.size} bytes, ` +\n",
              "        `last modified: ${\n",
              "            file.lastModifiedDate ? file.lastModifiedDate.toLocaleDateString() :\n",
              "                                    'n/a'} - `));\n",
              "    const percent = span('0% done');\n",
              "    li.appendChild(percent);\n",
              "\n",
              "    outputElement.appendChild(li);\n",
              "\n",
              "    const fileDataPromise = new Promise((resolve) => {\n",
              "      const reader = new FileReader();\n",
              "      reader.onload = (e) => {\n",
              "        resolve(e.target.result);\n",
              "      };\n",
              "      reader.readAsArrayBuffer(file);\n",
              "    });\n",
              "    // Wait for the data to be ready.\n",
              "    let fileData = yield {\n",
              "      promise: fileDataPromise,\n",
              "      response: {\n",
              "        action: 'continue',\n",
              "      }\n",
              "    };\n",
              "\n",
              "    // Use a chunked sending to avoid message size limits. See b/62115660.\n",
              "    let position = 0;\n",
              "    do {\n",
              "      const length = Math.min(fileData.byteLength - position, MAX_PAYLOAD_SIZE);\n",
              "      const chunk = new Uint8Array(fileData, position, length);\n",
              "      position += length;\n",
              "\n",
              "      const base64 = btoa(String.fromCharCode.apply(null, chunk));\n",
              "      yield {\n",
              "        response: {\n",
              "          action: 'append',\n",
              "          file: file.name,\n",
              "          data: base64,\n",
              "        },\n",
              "      };\n",
              "\n",
              "      let percentDone = fileData.byteLength === 0 ?\n",
              "          100 :\n",
              "          Math.round((position / fileData.byteLength) * 100);\n",
              "      percent.textContent = `${percentDone}% done`;\n",
              "\n",
              "    } while (position < fileData.byteLength);\n",
              "  }\n",
              "\n",
              "  // All done.\n",
              "  yield {\n",
              "    response: {\n",
              "      action: 'complete',\n",
              "    }\n",
              "  };\n",
              "}\n",
              "\n",
              "scope.google = scope.google || {};\n",
              "scope.google.colab = scope.google.colab || {};\n",
              "scope.google.colab._files = {\n",
              "  _uploadFiles,\n",
              "  _uploadFilesContinue,\n",
              "};\n",
              "})(self);\n",
              "</script> "
            ]
          },
          "metadata": {}
        },
        {
          "output_type": "stream",
          "name": "stdout",
          "text": [
            "Saving kaggle.json to kaggle.json\n",
            "Requirement already satisfied: kaggle in /usr/local/lib/python3.10/dist-packages (1.6.17)\n",
            "Requirement already satisfied: six>=1.10 in /usr/local/lib/python3.10/dist-packages (from kaggle) (1.16.0)\n",
            "Requirement already satisfied: certifi>=2023.7.22 in /usr/local/lib/python3.10/dist-packages (from kaggle) (2024.8.30)\n",
            "Requirement already satisfied: python-dateutil in /usr/local/lib/python3.10/dist-packages (from kaggle) (2.8.2)\n",
            "Requirement already satisfied: requests in /usr/local/lib/python3.10/dist-packages (from kaggle) (2.32.3)\n",
            "Requirement already satisfied: tqdm in /usr/local/lib/python3.10/dist-packages (from kaggle) (4.66.5)\n",
            "Requirement already satisfied: python-slugify in /usr/local/lib/python3.10/dist-packages (from kaggle) (8.0.4)\n",
            "Requirement already satisfied: urllib3 in /usr/local/lib/python3.10/dist-packages (from kaggle) (2.2.3)\n",
            "Requirement already satisfied: bleach in /usr/local/lib/python3.10/dist-packages (from kaggle) (6.1.0)\n",
            "Requirement already satisfied: webencodings in /usr/local/lib/python3.10/dist-packages (from bleach->kaggle) (0.5.1)\n",
            "Requirement already satisfied: text-unidecode>=1.3 in /usr/local/lib/python3.10/dist-packages (from python-slugify->kaggle) (1.3)\n",
            "Requirement already satisfied: charset-normalizer<4,>=2 in /usr/local/lib/python3.10/dist-packages (from requests->kaggle) (3.3.2)\n",
            "Requirement already satisfied: idna<4,>=2.5 in /usr/local/lib/python3.10/dist-packages (from requests->kaggle) (3.10)\n",
            "Dataset URL: https://www.kaggle.com/datasets/dhruvildave/wikibooks-dataset\n",
            "License(s): CC-BY-SA-4.0\n",
            "Downloading wikibooks-dataset.zip to /content\n",
            "100% 1.82G/1.82G [00:19<00:00, 127MB/s]\n",
            "100% 1.82G/1.82G [00:19<00:00, 101MB/s]\n"
          ]
        }
      ],
      "source": [
        "files.upload()  # Загрузите kaggle.json\n",
        "# Установите Kaggle CLI, если еще не установлено\n",
        "!pip install kaggle\n",
        "\n",
        "# Создайте папку .kaggle и скопируйте туда kaggle.json\n",
        "!mkdir -p ~/.kaggle\n",
        "!cp kaggle.json ~/.kaggle/\n",
        "!chmod 600 ~/.kaggle/kaggle.json\n",
        "\n",
        "# Загрузите набор данных Wikibooks\n",
        "!kaggle datasets download -d dhruvildave/wikibooks-dataset\n"
      ]
    },
    {
      "cell_type": "code",
      "source": [
        "!unzip wikibooks-dataset.zip -d wikibooks"
      ],
      "metadata": {
        "colab": {
          "base_uri": "https://localhost:8080/"
        },
        "id": "drXG47T4Xy3c",
        "outputId": "cb95a5c3-2751-405a-dad2-ed0bf88953d8"
      },
      "execution_count": 3,
      "outputs": [
        {
          "output_type": "stream",
          "name": "stdout",
          "text": [
            "Archive:  wikibooks-dataset.zip\n",
            "  inflating: wikibooks/wikibooks.sqlite  \n"
          ]
        }
      ]
    },
    {
      "cell_type": "code",
      "source": [
        "conn = sqlite3.connect('/content/wikibooks/wikibooks.sqlite')\n",
        "cursor = conn.cursor()\n",
        "\n",
        "cursor.execute(\"SELECT body_text FROM ru Limit 100\")\n",
        "rows = cursor.fetchall()\n",
        "\n",
        "# Вывод результатов (например, первые 10 строк)\n",
        "for row in rows[:10]:\n",
        "  print(row)\n",
        "\n",
        "conn.close()\n"
      ],
      "metadata": {
        "colab": {
          "base_uri": "https://localhost:8080/"
        },
        "id": "IdwAVEuHan5f",
        "outputId": "5ca80070-9e33-4097-d273-34216a1510eb"
      },
      "execution_count": 3,
      "outputs": [
        {
          "output_type": "stream",
          "name": "stdout",
          "text": [
            "('Рабочая станция;\\nСервер;\\nПерсональный компьютер.',)\n",
            "('В Википедии имеется статья по теме «Свидетельство частного пилота»\\n\\n\\nГражданское пилотское свидетельство - разрешение на управление определенным видом воздушного судна. Внутри этого свидетельства может быть много разных отметок (а может и не быть), которые или урезают или увеличивают количество разрешенных функций. Самое понятное и известное массам это свидетельство частного пилота. Его выдают после обучения на самолете или на вертолете. Для краткости в разговорной речи это свидетельство могут обозначать через название его иностранного аналога - ППЛ или ПиПиЭль (PPL).  Раньше это свидетельство в России называлось свидетельство пилота-любителя.\\nПорядок выдачи свидетельств описан в ФАП-147. Содержимое этого документа почти целиком повторяет Приложение 1 \"Выдача свидетельств авиационному персоналу\" к Чикагской конвенции. За исключением того что свидетельства СВС в нем нет и это российская особенность.\\nПилотские в каждой стране являются национальными. Выдает их CAA. В разных странах этот орган называется по-разному. В России он называется ФАВТ или Росавиация.\\nНе существует в природе \"международного пилотского\". Единственным международным пилотским можно условно считать европейское свидетельство, которое действительно во всех странах Евросоюза, а также странах которые свое авиационное регулирование перевели под правила EASA. К таким странам относится, например, Сербия. Украина также находится на пути к тому чтобы регулировать свою авиацию правилами EASA.\\nСуществуют пилотские свидетельства и в других видах авиации - экспериментальной (испытательная авиация) и государственной (военные и государственные организации). В экспериментальной авиации это бумажная книжка, выдаваемая Минпромторгом. В государственной авиации до некотрых пор не было свидетельств, но сейчас у военных появился документ с таким названием.\\nСуществует еще свидетельство, выдаваемое в ДОСААФ России - оно носит название \"Свидетельство авиационного специалиста\". \\n\\nСодержание\\n\\n1 Получение пилотского\\n2 Какие пилотские бывают\\n3 Срок действия пилотского\\n4 Формат свидетельства\\n5 Как выдаются пилотские\\n6 ФГИС РАП - База пилотских\\n7 Документы выпускника АУЦ\\n8 Без пилотских\\n9 История\\n10 См. также\\n\\n\\n\\nПолучение пилотского[править]\\nПеречень мест, где в России можно получить гражданское свидетельство пилота находится тут - АОН/АУЦ. \\nТакие авиационно-учебные центра (АУЦ), которые готовят пилотов АОН это почти всегда частные организации. Государственные учебные заведения этой услуги не оказывают - они готовят только коммерческих или линейных пилотов (но как первое свидетельство выдают им все равно частного пилота).\\nТакже можно получить свидетельство за рубежом и для того чтобы использовать его в России пройти процедуру валидации.\\n\\nКакие пилотские бывают[править]\\nСвидетельства, которые рассматриваются в этом учебнике следующие (в скобках дано его англоязычное название):\\n\\nчастного пилота (PPL);\\nЧастный пилот самолета\\nОтметка Однодвигательный сухопутный (SEL) - такое свидетельство получают все выпускники АУЦ\\nОтметка ППП (IFR) - эта отметка получается дополнительно после обучения в АУЦ\\nОтметка Многодвигательный (ME) - эта отметка получается после переподготовки на двухдвигательном самолете\\nЧастный пилот вертолета\\nОтметка Однодвигательный сухопутный (SEL)  - такое свидетельство получают все выпускники АУЦ\\nОтметка ППП (IFR)\\nОтметка Многодвигательный (ME)\\nпилота планера;\\nОтметка только одна по сути может в этом свидетельстве - \"инструктор\".\\nпилота свободного аэростата - получают после обучения на воздушном шаре (тепловом прежде всего);\\nКак и у планера только одна актуальная отметка - \"инструктор\". Газовый аэростат это экзотика.\\nпилота сверхлегкого воздушного судна (СВС) - получают после обучения на самолете, автожире, дельталете;\\nОтметка \"ВС с балансирным управлением (дельтаплан, дельталет)\"\\nОтметка \"ВС с аэродинамическим управлением (автожир, вертолет, самолет)\"\\nОтметка \"ВС со смешанным управлением (параплан)\".\\nВ части СВС наименование отметок может вызывать удивление, потому что параплан не требует свидетельства, но, возможно, эта отметка предусмотрена на аэрошютов, которые больше 115 килограмм массой.\\nНижеперечисленные свидетельства имеют свой порядок получения и он описан тут Как стать пилотом в России. Их в России без поступления в государственное училище не получить. За границей они получаются без училищ и ВУЗов, поскольку таковых почти нигде и нет. \\n\\nкоммерческого пилота (самолет, дирижабль, вертолет);\\nлинейного пилота (самолет, вертолет);\\nпилота многочленного экипажа (самолет);\\nСрок действия пилотского[править]\\nВ настоящее время свидетельства являются бессрочными и не имеют срока действия. Это достигнуто технически за счет того, что мединская и летная \"годность\" пилота  (так назовем это) вынесены в 2 отдельных документа. Это ВЛЭК и справка о проверке навыков. Без них пилотское считается недействующим. Вот они имеют срок действия. ВЛЭК 2 или 5 лет (зависит от возраста пилота), а проверка - 2 года.  \\nБессрочными (с момента изменения в законодательстве) стали и те свидетельства, в которых есть страница и текст \"Срок действия\". Это касается бумажных свидетельств, которые выдавались ранее.\\nПилотские в России не всегда были бессрочными. Раньше свидетельство требовалось продлевать. \\n\\nФормат свидетельства[править]\\nПо состоянию на лето 2018 свидетельство представляет собой заламинированную бумажную карточку (форматом с водительские права) с бессрочным действием. На каждый вид воздушного судна - отдельное пилотское. Дизайн у всех видов пилотских (шары, самолеты, планера и пр.) одинаковый, разница в тексте внутри свидетельства. \\nРаньше свидетельства были бумажные и представляли собой книжку, похожую на военный билет или паспорт. Сейчас эти свидетельства по-прежнему действуют, но ФАВТ на практике оказывает давление на пилотов, чтобы они производили замену свидетельства на пластиковое. АОН/Пилотское свидетельство/Замена. В бумажных свидетельствах указывался срок его действия. Когда он заканчивался, требовалось \"продление\". О том, как это производилось на странице АОН/Пилотское свидетельство/Срок действия.\\nУ современного свидетельства пилота срока нет, оно бессрочное. Его действительность подтверждается двумя документами - сертификат медицинский и справкой о проверке навыков. Эти две бумаги должны быть актуальными.\\nДо того, как Российская Федерация начала выдавать свидетельства частных пилотов в 2000 гг, эту функцию выполняла общественная организация ФЛА России. Но с появлением нормативной базы, эту функцию взяло на себя государство в лице ФАВТ. Старые свидетельства, выданны ФЛА России, могут быть заменены на современное свидетельство. \\n\\nКак выдаются пилотские[править]\\nПилотское свидетельство выдается не учебным центром, а Росавиацией (ФАВТ) на основании т.н. \"представления\", которое готовит АУЦ (Авиационный учебный центр) и сдачи теоретических экзаменов в самой Росавиации (центральном аппарате) или в её территориальных органах (МТУ).\\n\\nФГИС РАП - База пилотских[править]\\nС определенного момента ФАВТ внедрило электронную базу для свидетельств. \"Реестр выданных свидетельств авиационного персонала\" (сокращенное наименование - ФГИС РАП). О ней написано на ФГИС РАП.\\n\\nДокументы выпускника АУЦ[править]\\nКакие документы надо сохранить описано тут АОН/Пилотское свидетельство/Документы выпускника АУЦ. С пилотским свидетельством ситуация, к сожалению, не такая как с водительскими правами, для которых при замене или утере не требуют вообще ничего. Тут могут попросить все документы.\\n\\nБез пилотских[править]\\nНе все летающие в России должны получать пилотское, есть категории которые освобождены от этого требования. Это те кто летает на разных очень легких воздушных судах (меньше 115 кг). Самые массовые представители этой категории - парапланеристы. \\nОбладатель свидетельства может получить доступ на сайт (логин и пароль) для подачи полётных планов. Если свидетельство не требуется по закону, например, в случае парапланериста, то планы подаются иначе - по электронном почте. См. АОН/115.\\n\\nИстория[править]\\nНе всегда в истории современной России свидетельство выдавалось Росавиацией, в 90-е годы эта функция была делегирована АОН/ФЛА.\\n\\nСм. также[править]\\nАОН/АУЦ\\nАОН/Пилотское свидетельство/Документы выпускника АУЦ\\nАОН/Пилотское свидетельство/Срок действия\\nАОН/Пилотское свидетельство/Замена\\nАОН/Пилотское свидетельство/База данных\\nНормативка\\n\\nФАП 147\\nФАП 32 - форма нового свидетельства пластикового\\nАдминистративный регламент\\n\\nп·о·рУчебник по авиации общего назначения (АОН)Процедуры по ВС:Регистрация\\xa0·  Разрешение на радиостанцию\\xa0·  СЛГ\\xa0·  СтраховкаПроцедуры по пилоту:Пилотское свидетельство\\xa0·  ВЛЭК \\xa0·  Проверка навыков\\xa0·  Английский язык \\xa0·  Летная книжка Процедуры по аэродрому (посадочной площадке):Уведомление о деятельности ПП\\xa0·  Аэронавигационный паспортПроцедуры по использованию ВП:Судовые документы\\xa0·  План полёта\\xa0·  Воздушное пространство\\xa0·  РадиообменИностранцы в России:Валидация\\xa0·  Полёт иностранного ВСПо видам ВС: Планер\\xa0·  Свободный аэростат\\xa0·  Самолёт\\xa0·  Вертолёт\\xa0·  ПарапланОбщественные организации в области АОН: АОПА Россия\\xa0·  ФЛА России\\xa0·   ФПлС России (планера)*Не все разделы вынесены в данный шаблон-оглавление, но все страницы-статьи учебника АОН выводятся в категории Категория:АОН',)\n",
            "(\"К оглавлению\\nВсе программы, код которых выложен здесь, являются работоспособными. На момент написания программ использовалась среда PascalABC.Net 3.0.\\n\\nСодержание\\n\\n1 Структура кода класса\\n2 Классы без свойств\\n3 Структуры данных на базе статического массива\\n\\n3.1 Простейший стек\\n3.2 Простейшая очередь\\n\\n\\n4 Структуры данных на базе динамического массива\\n\\n4.1 Стек\\n\\n4.1.1 Функции быстрого создания стека\\n\\n\\n4.2 Список\\n\\n4.2.1 Функции быстрого создания списков\\n4.2.2 Методы расширения\\n\\n4.2.2.1 Простейшие методы\\n4.2.2.2 Селектор и поиск минимума и максимума по ключу\\n4.2.2.3 Срезы\\n\\n\\n\\n\\n\\n\\n5 Связные списки\\n\\n5.1 Односвязный список\\n\\n5.1.1 Реализация через record\\n5.1.2 Реализация через классы\\n\\n5.1.2.1 Примитивная реализация\\n5.1.2.2 Многослойная абстракция\\n\\n5.1.2.2.1 Функции быстрого создания списков\\n\\n\\n\\n\\n\\n\\n5.2 Двусвязный список с многослойной абстракцией\\n\\n5.2.1 Функции быстрого создания списков\\n\\n\\n\\n\\n6 Математические структуры данных\\n\\n6.1 Точка\\n\\n6.1.1 Первый подход\\n6.1.2 Второй подход\\n\\n\\n6.2 Диапазон\\n\\n6.2.1 Первый подход\\n6.2.2 Второй подход\\n\\n\\n6.3 Вектора\\n\\n6.3.1 Двумерный вектор\\n6.3.2 Трехмерный вектор\\n\\n\\n6.4 Класс окружности\\n6.5 Класс дроби\\n\\n6.5.1 Методы расширения\\n\\n\\n6.6 Комплексное число\\n6.7 Класс матрицы\\n\\n6.7.1 Методы расширения\\n\\n\\n6.8 Преобразования на плоскости\\n\\n6.8.1 Класс линейного оператора\\n\\n\\n\\n\\n7 Структуры данных для графики\\n\\n7.1 Класс цвета\\n7.2 Класс черепашки\\n\\n\\n8 Ссылки\\n\\n\\n\\nСтруктура кода класса[править]\\nПриватные переменные\\nСвойства\\nМетоды\\nClone(), CloneAs(), Readln()\\nКлассовые методы\\nОператоры\\nToString(), Print(), Println()\\nКлассы без свойств[править]\\ntype\\n  TPoint = class\\n  public \\n    X, Y: integer;\\n    \\n    constructor(cx, cy: integer);\\n    begin\\n      X := cx;Y := cy;\\n    end;\\n    \\n    function Clone() := new TPoint(X, Y);\\n    \\n    procedure Println() := Write(Format('({0}, {1})', X, Y));\\n  end;\\n\\nbegin\\n  var P := new TPoint(1, 2);\\n  P.Println();\\nend.\\n\\nСтруктуры данных на базе статического массива[править]\\nПростейший стек[править]\\nconst\\n  MaxSize = 100;\\n\\ntype\\n  TStack = class\\n  private\\n    _A: array [0..MaxSize - 1] of integer;\\n    _Count: integer;\\n  \\n  public \\n    property Count: integer read _Count; // Фактическое количество элементов\\n    \\n    constructor();\\n    begin\\n    end;\\n    \\n    procedure Push(v: integer); // Добавляет элемент в конец.\\n    begin\\n      if _Count = MaxSize then\\n        raise new Exception('Переполнение стека.');\\n      \\n      Inc(_Count);\\n      _A[Pred(_Count)] := v;\\n    end;\\n    \\n    function Pop(): integer; // Удаляет последний элемент и возвращает его значение.\\n    begin\\n      if _Count = 0 then\\n        raise new Exception('Стек пуст.');\\n      \\n      Result := _A[Pred(_Count)];\\n      Dec(_Count);\\n    end;\\n  end;\\n\\nbegin\\n  var Q := new TStack();\\n  for var i := 1 to 10 do\\n    Q.Push(i);\\n  for var i := 1 to 10 do\\n    Writeln(Q.Pop());\\nend.\\n\\nПростейшая очередь[править]\\nconst\\n  MaxSize = 100;\\n\\ntype\\n  TQueue = class\\n  private \\n    _A: array [0..MaxSize - 1] of integer;\\n    _Head, _Tail: integer;\\n    _Count: integer;\\n  \\n  public \\n    property Count: integer read _Count;\\n    \\n    constructor();\\n    begin\\n    end;\\n    \\n    procedure Enqueue(v: integer); // Вставляет элемент в конец.\\n    begin\\n      if _Count = MaxSize then\\n        raise new Exception('Переполнение очереди.');\\n      \\n      _A[_Tail] := v;\\n      _Tail := Succ(_Tail) mod MaxSize;\\n      Inc(_Count);\\n    end;\\n    \\n    function Dequeue(): integer; // Удаляет первый элемент и возвращает его значение.\\n    begin\\n      if _Count = 0 then\\n        raise new Exception('Очередь пуста.');\\n      \\n      Result := _A[_Head];\\n      _Head := Succ(_Head) mod MaxSize;\\n      Dec(_Count);\\n    end;\\n  end;\\n\\nbegin\\n  var Q := new TQueue();\\n  for var i := 1 to 100 do\\n    Q.Enqueue(i);\\n  for var i := 1 to 100 do\\n    Writeln(Q.Dequeue());\\nend.\\n\\nСтруктуры данных на базе динамического массива[править]\\nСтек[править]\\ntype\\n  TStack = class\\n  private \\n    _A: array of integer;\\n    _Count, _Capacity: integer;\\n  \\n  public \\n    property Count: integer read _Count; // Фактическое количество элементов\\n    property Capacity: integer read _Capacity; // Ёмкость\\n    \\n    constructor();\\n    begin\\n      _Capacity := 2;\\n      SetLength(_A, _Capacity);\\n    end;\\n    \\n    procedure Clear() := _Count := 0; // Выполняет очистку стека.\\n    \\n    procedure Push(v: integer); // Выполняет вставку числа в стек.\\n    begin\\n      Inc(_Count);\\n      if _Count > _Capacity then\\n      begin\\n        _Capacity *= 2;\\n        SetLength(_A, _Capacity);\\n      end;\\n      _A[Pred(_Count)] := v;\\n    end;\\n    \\n    function Pop(): integer; // Выполняет удаление последнего элемента стека.\\n    begin\\n      if _Count > 0 then\\n      begin\\n        Result := _A[Pred(_Count)];\\n        Dec(_Count);\\n      end\\n      else\\n        raise new System.InvalidOperationException('Стек пуст.');\\n    end;\\n    \\n    procedure Print(); // Выполняет вывод на экран стека.\\n    begin\\n      for var i := 0 to Pred(_Count) do\\n        if i < Pred(_Count) then\\n          WriteFormat('{0} ', _A[i].ToString())\\n        else\\n          Write(_A[i].ToString());\\n    end;\\n    \\n    procedure Println(); // Выполняет вывод на экран стека и переходит на новую строку.\\n    begin\\n      Print();\\n      Writeln();\\n    end;\\n  end;\\n\\nbegin\\n  var S := new TStack();\\n  for var i := 0 to 2 do\\n    S.Push(i);\\n  \\n  Writeln('Изначальный стек:');\\n  S.Print();\\n  S.Clear();\\n  Writeln('Пустой стек:');\\n  S.Print();\\nend.\\n\\nФункции быстрого создания стека[править]\\nfunction GenStack(params values: array of integer): TStack; // Выполняет генерацию стека на основе параметров.\\nbegin\\n  Result := new TStack();\\n  foreach var v in values do\\n    Result.Push(v);\\nend;\\n\\nСписок[править]\\ntype\\n  TDynamicArray = class(System.ICloneable, System.IEquatable<TDynamicArray>)\\n  private \\n    _A: array of integer;\\n    _Count, _Capacity: integer;\\n    \\n    procedure TryRaiseIndexOutOfRangeException(i: integer);\\n    begin\\n      if (i >= _Count) or (i < 0) then\\n        raise new System.IndexOutOfRangeException();\\n    end;\\n    \\n    procedure TryRaiseZeroCountException();\\n    begin\\n      if _Count = 0 then\\n        raise new Exception('Список пуст.');\\n    end;\\n    \\n    function GetItem(i: integer): integer;\\n    begin\\n      TryRaiseIndexOutOfRangeException(i);\\n      Result := _A[i];\\n    end;\\n    \\n    procedure SetItem(i: integer; v: integer);\\n    begin\\n      TryRaiseIndexOutOfRangeException(i);\\n      _A[i] := v;\\n    end;\\n    \\n    procedure TryResize();\\n    begin\\n      Inc(_Count);\\n      if _Count > _Capacity then\\n      begin\\n        _Capacity *= 2;\\n        SetLength(_A, _Capacity);\\n      end;\\n    end;\\n  \\n  public \\n    property Items[i: integer]: integer read GetItem write SetItem;default;\\n    property Count: integer read _Count;\\n    property Capacity: integer read _Capacity;\\n    \\n    constructor();\\n    begin\\n      _Capacity := 2;\\n      SetLength(_A, _Capacity);\\n    end;\\n    \\n    procedure AddLast(v: integer); // Выполняет добавление элемента в конец списка.\\n    begin\\n      TryResize();\\n      _A[Pred(_Count)] := v;\\n    end;\\n    \\n    procedure RemoveLast(); // Выполняет удаление последнего элемента списка.\\n    begin\\n      TryRaiseZeroCountException();\\n      Dec(_Count);\\n    end;\\n    \\n    procedure AddFirst(v: integer); // Выполняет добавление элемента в начало списка.\\n    begin\\n      TryResize();\\n      for var i := Pred(_Count) downto 1 do\\n        _A[i] := _A[Pred(i)];\\n      _A[0] := v;\\n    end;\\n    \\n    procedure RemoveFirst(); // Выполняет удаление первого элемента списка.\\n    begin\\n      TryRaiseZeroCountException();\\n      for var i := 0 to _Count - 2 do\\n        _A[i] := _A[Succ(i)];\\n    end;\\n    \\n    function Seach(v1: integer): integer; // Выполняет поиск элемента по списку и возвращает его индекс (либо выбрасывает исключение при его отсутствии).\\n    begin\\n      Result := 0;\\n      while (Result < _Count) and (_A[Result] <> v1) do Inc(Result);\\n      TryRaiseIndexOutOfRangeException(Result);\\n    end;\\n    \\n    procedure Insert(v1, v2: integer); // Выполняет вставку элемента v2 после элемента со значением v1 в список.\\n    begin\\n      TryResize();\\n      var j := Seach(v1);\\n      for var i := Pred(_Count) downto Succ(j) do\\n        _A[i] := _A[Pred(i)];\\n      _A[j] := v2;\\n    end;\\n    \\n    procedure Remove(v1: integer); // Выполняет удаление элемента со значением v1 из списка.\\n    begin\\n      TryRaiseZeroCountException();\\n      var j := Seach(v1);\\n      for var i := j to _Count - 2 do\\n        _A[i] := _A[Succ(i)];\\n      Dec(_Count);\\n    end;\\n    \\n    procedure Remove(a: TDynamicArray); // Выполняет удаление всех элементов a из списка.\\n    begin\\n      for var i := 0 to Pred(a.Count) do\\n        Remove(a[i]);\\n    end;\\n    \\n    procedure AppendLast(a: TDynamicArray); // Выполняет добавление второго списка в конец.\\n    begin\\n      for var i := 0 to Pred(a.Count) do\\n        AddLast(a[i]);\\n    end;\\n    \\n    procedure AppendFirst(a: TDynamicArray); // Выполняет добавление второго списка в начало.\\n    begin\\n      for var i := 0 to Pred(a.Count) do\\n        AddFirst(a[i]);\\n    end;\\n    \\n    procedure Shuffle(); // Выполняет случайное перемешивание списка.\\n    begin\\n      for var i := 0 to _Count - 2 do\\n        Swap(_A[i], _A[Random(Succ(i), Pred(_Count))]);\\n    end;\\n    \\n    function &Repeat(c: integer): TDynamicArray; // Выполняет дублирование списка c раз.\\n    begin\\n      Result := new TDynamicArray();\\n      for var i := 1 to c do\\n        Result.AppendLast(self);\\n    end;\\n    \\n    function Clone(): object; // Выполняет полное копирование списка.\\n    begin\\n      var outcome := new TDynamicArray();\\n      for var i := 0 to Pred(_Count) do\\n        outcome.AddLast(_A[i]);\\n      Result := outcome;\\n    end;\\n    \\n    function CloneAs() := TDynamicArray(Clone());\\n    \\n    function Equals(b: TDynamicArray): boolean; // Выполняет сравнение списков.\\n    begin\\n      if _Count = b.Count then\\n      begin\\n        Result := true;\\n        var i := 0;\\n        while Result and (i < _Count) do\\n        begin\\n          Result := _A[i] = b[i];\\n          Inc(i);\\n        end;\\n      end;\\n    end;\\n    \\n    class function Readln(c: integer): TDynamicArray; // Выполняет чтение списка с клавиатуры и возвращает новый список.\\n    begin\\n      Result := new TDynamicArray();\\n      for var i := 1 to c do\\n        Result.AddLast(ReadlnInteger(Format('Value {0}:', i)));\\n    end;\\n    \\n    class procedure operator+=(a: TDynamicArray; v1: integer) := a.AddLast(v1);\\n    \\n    class function operator*(a: TDynamicArray; c: integer): TDynamicArray; // Выполняет дублирование списка c раз.\\n    begin\\n      Result := new TDynamicArray();\\n      for var i := 1 to c do\\n        Result.AppendLast(a);\\n    end;\\n    \\n    class function operator+(a: TDynamicArray; v1: integer): TDynamicArray;\\n    begin\\n      Result := a.CloneAs();\\n      Result.AddLast(v1);\\n    end;\\n    \\n    class function operator+(v1: integer; a: TDynamicArray): TDynamicArray;\\n    begin\\n      Result := a.CloneAs();\\n      Result.AddFirst(v1);\\n    end;\\n    \\n    class function operator+(a, b: TDynamicArray): TDynamicArray;\\n    begin\\n      Result := a.CloneAs();\\n      Result.AppendLast(b);\\n    end;\\n    \\n    class function operator-(a: TDynamicArray; v1: integer): TDynamicArray;\\n    begin\\n      Result := a.CloneAs();\\n      Result.Remove(v1);\\n    end;\\n    \\n    class function operator-(a, b: TDynamicArray): TDynamicArray;\\n    begin\\n      Result := a.CloneAs();\\n      for var i := 0 to Pred(b.Count) do\\n        Result.Remove(b[i]);\\n    end;\\n    \\n    class function operator=(a, b: TDynamicArray) := a.Equals(b);\\n    \\n    class function operator<>(a, b: TDynamicArray) := not (a = b);\\n    \\n    class function operator explicit(numbers: array of integer): TDynamicArray;\\n    begin\\n      Result := new TDynamicArray();\\n      foreach var number in numbers do\\n        Result.AddLast(number);\\n    end;\\n    \\n    class function operator explicit(s: string): TDynamicArray;\\n    begin\\n      var numbers := s.ToIntegers();\\n      Result := new TDynamicArray();\\n      foreach var number in numbers do\\n        Result.AddLast(number);\\n    end;\\n    \\n    procedure Print();\\n    begin\\n      for var i := 0 to Pred(_Count) do\\n        if i < Pred(_Count) then\\n          WriteFormat('{0} ', _A[i].ToString())\\n        else\\n          Write(_A[i].ToString());\\n    end;\\n    \\n    procedure Println();\\n    begin\\n      Print();\\n      Writeln();\\n    end;\\n  end;\\n\\nbegin\\n  var L := new TDynamicArray();\\n  \\n  for var i := 0 to 9 do\\n    L += i;\\n  \\n  L.Println();\\n  L.Repeat(2).Println();\\n  L.Shuffle();\\n  L.Println();\\n  TDynamicArray('0 12 3 4 512').Println();\\nend.\\n\\nФункции быстрого создания списков[править]\\nfunction DArr(params values: array of integer): TDynamicArray;\\nbegin\\n  Result := new TDynamicArray();\\n  foreach var v in values do\\n    Result.AddLast(v);\\nend;\\n\\nfunction DArr(params arrays: array of TDynamicArray): TDynamicArray; // Выполняет склеивание списков и возвращает новый список.\\nbegin\\n  Result := new TDynamicArray();\\n  foreach var a in arrays do\\n    Result.AppendLast(a);\\nend;\\n\\nМетоды расширения[править]\\nПростейшие методы[править]\\nfunction First(self: TDynamicArray): integer; extensionmethod; // Возвращает первый элемент списка.\\nbegin\\n  Result := self[0];\\nend;\\n\\nfunction Last(self: TDynamicArray): integer; extensionmethod; // Возвращает последний элемент списка.\\nbegin\\n  Result := self[Pred(self.Count)];\\nend;\\n\\nfunction GetAt(self: TDynamicArray; i: integer): integer; extensionmethod; // Получает значение элемента с индексом i mod self.Count.\\nbegin\\n  Result := self[i mod self.Count];\\nend;\\n\\nprocedure SetAt(self: TDynamicArray; i, v: integer); extensionmethod; // Устанавливает значение элемента с индексом i mod self.Count.\\nbegin\\n  self[i mod self.Count] := v;\\nend;\\n\\nfunction Min(self: TDynamicArray): integer; extensionmethod; // Возвращает минимальный элемент списка.\\nbegin\\n  Result := integer.MaxValue;\\n  for var i := 0 to Pred(self.Count) do\\n    if Result > self[i] then\\n      Result := self[i];\\nend;\\n\\nfunction Max(self: TDynamicArray): integer; extensionmethod; // Возвращает максимальный элемент списка.\\nbegin\\n  Result := integer.MinValue;\\n  for var i := 0 to Pred(self.Count) do\\n    if Result < self[i] then\\n      Result := self[i];\\nend;\\n\\nfunction Average(self: TDynamicArray): real; extensionmethod; // Возвращает среднее значение элементов списка.\\nbegin\\n  for var i := 0 to Pred(self.Count) do\\n    Result += self[i];\\n  Result /= self.Count;\\nend;\\n\\nfunction Cartesian(self, a: TDynamicArray): sequence of (integer, integer); extensionmethod; // Возвращает декартово произведение двух списков в виде кортежей вида (integer, integer).\\nbegin\\n  for var i := 0 to Pred(self.Count) do\\n    for var j := 0 to Pred(a.Count) do\\n      yield (self[i], a[j]);\\nend;\\n\\nfunction Reversed(self: TDynamicArray): TDynamicArray; extensionmethod;// Возвращает перевёрнутый список.\\nbegin\\n  Result := self.CloneAs();\\n  for var i := 0 to Pred(Result.Count) div 2 do\\n  begin\\n    var i1 := Pred(Result.Count) - i;\\n    var c := Result[i];\\n    Result[i] := Result[i1];\\n    Result[i1] := c;\\n  end;\\nend;\\n\\nfunction Contains(self: TDynamicArray; v1: integer): boolean; extensionmethod;\\nbegin\\n  try\\n    self.Seach(v1);\\n    Result := true;\\n  except \\n    on System.IndexOutOfRangeException do end;\\nend;\\n\\nfunction operator in(v1: integer; a: TDynamicArray): boolean; extensionmethod;\\nbegin\\n  Result := a.Contains(v1);\\nend;\\n\\nfunction CountEqual(self, b: TDynamicArray): boolean; extensionmethod;\\nbegin\\n  Result := self.Count = b.Count;\\nend;\\n\\nfunction operator>(a, b: TDynamicArray): boolean; extensionmethod; // Возвращает true, если все элементы a больше элементов b.\\nbegin\\n  if not a.CountEqual(b) then exit;\\n  var i := 0;\\n  while (i < a.Count) and (a[i] > b[i]) do Inc(i);\\n  if i = a.Count then Result := true;\\nend;\\n\\nfunction operator<(a, b: TDynamicArray): boolean; extensionmethod; // Возвращает true, если все элементы a меньше элементов b.\\nbegin\\n  if not a.CountEqual(b) then exit;\\n  var i := 0;\\n  while (i < a.Count) and (a[i] < b[i]) do Inc(i);\\n  if i = a.Count then Result := true;\\nend;\\n\\nfunction operator>=(a, b: TDynamicArray): boolean; extensionmethod; // Возвращает true, если все элементы a больше или равны элементам b.\\nbegin\\n  if not a.CountEqual(b) then exit;\\n  var i := 0;\\n  while (i < a.Count) and (a[i] >= b[i]) do Inc(i);\\n  if i = a.Count then Result := true;\\nend;\\n\\nfunction operator<=(a, b: TDynamicArray): boolean; extensionmethod; // Возвращает true, если все элементы a меньше или равны элементам b.\\nbegin\\n  if not a.CountEqual(b) then exit;\\n  var i := 0;\\n  while (i < a.Count) and (a[i] <= b[i]) do Inc(i);\\n  if i = a.Count then Result := true;\\nend;\\n\\nfunction JoinIntoString(self: TDynamicArray; delim: string): string; extensionmethod; // Объединяет в строку все элементы массива, заполняя промежутки между элементами разделителем delim.\\nbegin\\n  var i := 0;\\n  while i < self.Count do\\n  begin\\n    if i < Pred(self.Count) then\\n      Result += self[i] + delim\\n    else\\n      Result += self[i];\\n    Inc(i);\\n  end;\\nend;\\n\\nfunction JoinIntoString(self: TDynamicArray; delims: array of string): string; extensionmethod; // Объединяет в строку все элементы массива, заполняя промежутки между элементами разделителями из массива delims.\\nbegin\\n  var (i, j) := (0, 0);\\n  while i < self.Count do\\n  begin\\n    if i < Pred(self.Count) then\\n      Result += self[i] + delims[j mod delims.Length]\\n    else\\n      Result += self[i];\\n    Inc(i);\\n    Inc(j);\\n  end;\\nend;\\n\\nСелектор и поиск минимума и максимума по ключу[править]\\ntype\\n  TSelector = function(x: integer): integer;\\n  TSelector2 = function(x, y: integer): integer;\\n\\nfunction MinBy(self: TDynamicArray; f: TSelector): integer; extensionmethod; // Возвращает элемент списка с минимальным ключём, получаемым функцией f.\\nbegin\\n  Result := integer.MaxValue;\\n  for var i := 0 to Pred(self.Count) do\\n  begin\\n    var outcome := f(self[i]);\\n    if Result > outcome then\\n      Result := outcome;\\n  end;\\nend;\\n\\nfunction MaxBy(self: TDynamicArray; f: TSelector): integer; extensionmethod; // Возвращает элемент списка с максимальным ключём, получаемым функцией f.\\nbegin\\n  Result := integer.MinValue;\\n  for var i := 0 to Pred(self.Count) do\\n  begin\\n    var outcome := f(self[i]);\\n    if Result < outcome then\\n      Result := outcome;\\n  end;\\nend;\\n\\nfunction Select(self: TDynamicArray; f: TSelector): TDynamicArray; extensionmethod; // Возвращает список, который получается из изначального применением к каждому из его элементов функции f.\\nbegin\\n  Result := new TDynamicArray();\\n  for var i := 0 to Pred(self.Count) do\\n    Result.AddLast(f(self[i]));\\nend;\\n\\nfunction SelectMany(self, a: TDynamicArray; f: TSelector2): TDynamicArray; // Возвращает список из элементов, которые были получены применением функции.\\nbegin\\n  Result := new TDynamicArray();\\n  foreach var x in self.Cartesian(a) do\\n    Result.AddLast(f(x.Item1, x.Item2));\\nend;\\n\\nСрезы[править]\\ntype\\n  InvalidSliceParameterValueException = class(Exception)\\n  end;\\n\\nfunction Slice(self: TDynamicArray; a: integer := 0; b: integer := 1; step: integer := 1): TDynamicArray; extensionmethod; // Возвращает срез списка.\\nbegin\\n  if (step = 0) or (a < b) and (step < 0) or (a >= b) and (step > 0) then\\n    raise new InvalidSliceParameterValueException('Недопустимая нижняя(верхняя) граница/шаг. При a > b step должен быть больше 0, иначе step должен быть меньше 0.');\\n  \\n  Result := new TDynamicArray();\\n  if a < b then\\n  begin\\n    var i := a;\\n    while (i <= b) do\\n    begin\\n      Result.AddLast(self[i]);\\n      Inc(i, step);\\n    end;\\n  end\\n  else\\n  begin\\n    var i := a;\\n    while (i >= b) do\\n    begin\\n      Result.AddLast(self[i]);\\n      Inc(i, step);\\n    end;\\n  end\\nend;\\n\\nСвязные списки[править]\\nОдносвязный список[править]\\nРеализация через record[править]\\ntype\\n  PNode = ^TNode;\\n  TNode = record\\n    Value: integer;\\n    Next: PNode;\\n  end;\\n  \\n  TLinkedList = PNode;\\n\\nfunction NewNode(value: integer; next: PNode): PNode;\\nbegin\\n  New(Result);\\n  Result^.Value := value;\\n  Result^.Next := next;\\nend;\\n\\nfunction IsEmpty(var l: TLinkedList) := l = nil;\\n\\nfunction GetCount(l: TLinkedList): integer;\\nbegin\\n  while l <> nil do\\n  begin\\n    Inc(Result);\\n    l := l^.Next;\\n  end;\\nend;\\n\\nprocedure Clear(var l: TLinkedList);\\nbegin\\n  while l <> nil do\\n  begin\\n    var l1 := l^.Next;\\n    Dispose(l);\\n    l := l1;\\n  end;\\nend;\\n\\nprocedure AddFirst(var l: TLinkedList; n: PNode);\\nbegin\\n  n^.Next := l;\\n  l := n;\\nend;\\n\\nprocedure RemoveFirst(var l: TLinkedList);\\nbegin\\n  if l <> nil then\\n    l := l^.Next;\\nend;\\n\\nprocedure Print(l: TLinkedList);\\nbegin\\n  while l <> nil do\\n  begin\\n    if l^.Next <> nil then\\n      WriteFormat('{0} ', l^.Value)\\n    else\\n      Write(l^.Value);\\n    l := l^.Next;\\n  end;\\nend;\\n\\nprocedure Println(l: TLinkedList);\\nbegin\\n  Print(l);\\n  Writeln();\\nend;\\n\\nbegin\\n  var L := NewNode(0, nil);\\n  \\n  for var i := 1 to 9 do\\n    AddFirst(L, NewNode(i, nil));\\n  \\n  Println(L);\\n  Writeln(GetCount(L));\\nend.\\n\\nРеализация через классы[править]\\nПримитивная реализация[править]\\ntype\\n  TNode = auto class\\n    Value: integer;\\n    Next: TNode;\\n  end;\\n  \\n  TLinkedList = TNode;\\n\\nfunction IsEmpty(l: TLinkedList) := l = nil;\\n\\nfunction GetCount(l: TLinkedList): integer;\\nbegin\\n  while l <> nil do\\n  begin\\n    Inc(Result);\\n    l := l.Next;\\n  end;\\nend;\\n\\nprocedure Clear(var l: TLinkedList) := l := nil;\\n\\nprocedure AddFirst(var l: TLinkedList; n: TNode);\\nbegin\\n  n.Next := l;\\n  l := n;\\nend;\\n\\nprocedure RemoveFirst(var l: TLinkedList);\\nbegin\\n  if l <> nil then\\n    l := l.Next;\\nend;\\n\\nprocedure Print(l: TLinkedList);\\nbegin\\n  while l <> nil do\\n  begin\\n    if l.Next <> nil then\\n      WriteFormat('{0} ', l.Value)\\n    else\\n      Write(l.Value);\\n    l := l.Next;\\n  end;\\nend;\\n\\nprocedure Println(l: TLinkedList);\\nbegin\\n  Print(l);\\n  Writeln();\\nend;\\n\\nbegin\\n  var L := new TLinkedList(0, nil);\\n  \\n  for var i := 1 to 9 do\\n    AddFirst(L, new TNode(i, nil));\\n  \\n  Println(L);\\n  Writeln(GetCount(L));\\nend.\\n\\nМногослойная абстракция[править]\\ntype\\n  TNode = class\\n  private \\n    _Value: integer;\\n    _Next: TNode;\\n  \\n  public \\n    property Value: integer read _Value write _Value;\\n    property Next: TNode read _Next write _Next;\\n    \\n    constructor(v: integer);\\n    begin\\n      Value := v;\\n    end;\\n  end;\\n\\ntype\\n  TLinkedList = class\\n  private \\n    _Head: TNode;\\n    _Count: integer;\\n  \\n  public \\n    property Head: TNode read _Head;\\n    property Count: integer read _Count;\\n    \\n    constructor();\\n    begin\\n    end;\\n    \\n    function IsEmpty() := _Count = 0;\\n    \\n    procedure Clear();\\n    begin\\n      _Head := nil;\\n      _Count := 0;\\n    end;\\n    \\n    procedure AddFirst(n: TNode);\\n    begin\\n      n.Next := _Head;\\n      _Head := n;\\n      Inc(_Count);\\n    end;\\n    \\n    procedure RemoveFirst();\\n    begin\\n      if _Head <> nil then\\n      begin\\n        _Head := _Head.Next;\\n        Dec(_Count);\\n      end;\\n    end;\\n    \\n    class procedure operator+=(l: TLinkedList; v: integer) := l.AddFirst(new TNode(v));\\n    \\n    procedure Print();\\n    begin\\n      var n := _Head;\\n      while n <> nil do\\n      begin\\n        if n.Next <> nil then\\n          WriteFormat('{0} ', n.Value)\\n        else\\n          Write(n.Value);\\n        n := n.Next;\\n      end;\\n    end;\\n    \\n    procedure Println();\\n    begin\\n      Print();\\n      Writeln();\\n    end;\\n  end;\\n\\nbegin\\n  var L := new TLinkedList();\\n  \\n  for var i := 0 to 9 do\\n    L += i;\\n  \\n  WritelnFormat('Количество элементов в списке равно {0}.', L.Count);\\n  L.Println();\\nend.\\n\\nФункции трансформации в другие структуры данных:\\n\\nfunction ToArray(): array of integer;\\nbegin\\n  SetLength(Result, _Count);\\n  var n := _Head;\\n  var i := 0;\\n  while n <> nil do\\n  begin\\n    Result[i] := n.Value;\\n    n := n.Next;\\n    Inc(i);\\n  end;\\nend;\\n\\nФункции быстрого создания списков[править]\\nfunction Lst(params values: array of integer): TLinkedList;\\nbegin\\n  Result := new TLinkedList();\\n  for var i := Pred(values.Length) downto 0 do\\n    Result.AddFirst(new TNode(values[i]));\\nend;\\n\\nДвусвязный список с многослойной абстракцией[править]\\ntype\\n  TNode = class\\n  private \\n    _Value: integer;\\n    _Next, _Previous: TNode;\\n  \\n  public \\n    property Value: integer read _Value write _Value;\\n    property Next: TNode read _Next write _Next;\\n    property Previous: TNode read _Previous write _Previous;\\n    \\n    constructor(v: integer);\\n    begin\\n      Value := v;\\n    end;\\n  end;\\n\\ntype\\n  TLinkedList = class\\n  private \\n    _Head, _Tail: TNode;\\n    _Count: integer;\\n    \\n    procedure TryRaiseZeroCountException();\\n    begin\\n      if _Count = 0 then\\n        raise new Exception('Список пуст.');\\n    end;\\n  \\n  public \\n    property Head: TNode read _Head;\\n    property Tail: TNode read _Tail;\\n    property Count: integer read _Count;\\n    \\n    constructor();\\n    begin\\n    end;\\n    \\n    function IsEmpty() := _Count = 0;\\n    \\n    procedure Clear();\\n    begin\\n      _Head := nil;\\n      _Tail := nil;\\n      _Count := 0;\\n    end;\\n    \\n    procedure AddFirst(n: TNode);\\n    begin\\n      n.Next := _Head;\\n      n.Previous := nil;\\n      if _Head <> nil then\\n        _Head.Previous := n\\n      else\\n        _Tail := n;\\n      _Head := n;\\n      Inc(_Count);\\n    end;\\n    \\n    procedure RemoveFirst();\\n    begin\\n      TryRaiseZeroCountException();\\n      _Head := _Head.Next;\\n      if _Count = 1 then\\n        _Tail := nil;\\n      Dec(_Count);\\n    end;\\n    \\n    procedure AddLast(n: TNode);\\n    begin\\n      if _Count = 0 then\\n        AddFirst(n)\\n      else\\n      begin\\n        n.Next := nil;\\n        n.Previous := _Tail;\\n        _Tail.Next := n;\\n        _Tail := n;\\n        Inc(_Count);\\n      end;\\n    end;\\n    \\n    procedure RemoveLast();\\n    begin\\n      if _Count = 1 then\\n        RemoveFirst()\\n      else\\n      begin\\n        TryRaiseZeroCountException();\\n        _Tail := _Tail.Previous;\\n        _Tail.Next := nil;\\n        Dec(_Count);\\n      end;\\n    end;\\n    \\n    class function Readln(c: integer): TLinkedList;\\n    begin\\n      Result := new TLinkedList();\\n      for var i := 1 to c do\\n        Result.AddLast(new TNode(ReadlnInteger(Format('Value {0}:', i))));\\n    end;\\n    \\n    class procedure operator+=(var l: TLinkedList; v: integer) := l.AddLast(new TNode(v));\\n    \\n    procedure Print();\\n    begin\\n      var n := _Head;\\n      while n <> nil do\\n      begin\\n        if n.Next <> nil then\\n          WriteFormat('{0} ', n.Value)\\n        else\\n          Write(n.Value);\\n        n := n.Next;\\n      end;\\n    end;\\n    \\n    procedure Println();\\n    begin\\n      Print();\\n      Writeln();\\n    end;\\n  end;\\n\\nbegin\\n  var L := TLinkedList.Readln(ReadlnInteger('Count:'));\\n  L.Println();\\nend.\\n\\nФункции быстрого создания списков[править]\\nfunction Lst(params values: array of integer): TLinkedList;\\nbegin\\n  Result := new TLinkedList();\\n  foreach var v in values do\\n    Result.AddLast(new TNode(v));\\nend;\\n\\nМатематические структуры данных[править]\\nТочка[править]\\nПервый подход[править]\\nuses System;\\nconst\\n  Eps = 1E-5; // Погрешность\\n\\ntype\\n  TPoint = class(ICloneable, IEquatable<TPoint>)\\n  private \\n    _X, _Y: real;\\n  \\n  public \\n    property X: real read _X write _X; // X координата точки\\n    property Y: real read _Y write _Y; // Y координата точки\\n    \\n    constructor(x_, y_: real);\\n    begin\\n      X := x_;Y := y_;\\n    end;\\n    \\n    function DistanceTo(p: TPoint) := Sqrt(Sqr(p.X - _X) + Sqr(p.Y - _Y)); // Возвращает дистанцию от данной точки до точки p.\\n    \\n    function GetRadiusVectorLength() := Sqrt(Sqr(_X) + Sqr(_Y)); // Получает длину радиус вектора, задаваемого координатами данной точки.\\n    \\n    function Clone(): object := new TPoint(_X, _Y);\\n    \\n    function CloneAs() := TPoint(Clone());\\n    \\n    function Equals(p: TPoint) := (Abs(_X - p.X) < Eps) and (Abs(_Y - p.Y) < Eps);\\n    \\n    class function Readln() := new TPoint(ReadlnReal('X:'), ReadlnReal('Y:')); // Выполняет чтение точки с клавиатуры и возвращает новую точку.\\n    \\n    class function operator=(a, b: TPoint) := a.Equals(b);\\n    \\n    class function operator<>(a, b: TPoint) := not (a = b);\\n    \\n    function ToString() := Format('Point({0}, {1})', _X, _Y); // Возвращает строковое представление объекта.\\n    \\n    procedure Print() := Write(ToString());\\n    \\n    procedure Println() := Writeln(ToString());\\n  end;\\n\\nbegin\\n  TPoint.Readln().Println();\\nend.\\n\\nВторой подход[править]\\nuses System;\\nconst\\n  Eps = 1E-5; // Погрешность\\n\\ntype\\n  TPoint = class\\n  private \\n    _X, _Y: real;\\n  \\n  public \\n    property X: real read _X write _X;\\n    property Y: real read _Y write _Y;\\n    \\n    constructor(x_, y_: real);\\n    begin\\n      X := x_;Y := y_;\\n    end;\\n    \\n    class function DistanceBetween(p1, p2: TPoint) := Sqrt(Sqr(p2.X - p1.X) + Sqr(p2.Y - p1.Y));\\n    \\n    class function GetRadiusVectorLength(p: TPoint) := Sqrt(Sqr(p.X) + Sqr(p.Y));\\n    \\n    class function Clone(p: TPoint): object := new TPoint(p.X, p.Y);\\n    \\n    class function CloneAs(p: TPoint) := TPoint(Clone(p));\\n    \\n    class function Equals(p1, p2: TPoint) := (Abs(p2.X - p1.X) < Eps) and (Abs(p2.Y - p1.Y) < Eps);\\n    \\n    class function Readln() := new TPoint(ReadlnReal('X:'), ReadlnReal('Y:'));\\n    \\n    class function operator=(a, b: TPoint) := TPoint.Equals(a, b);\\n    \\n    class function operator<>(a, b: TPoint) := not (a = b);\\n    \\n    function ToString() := Format('Point({0}, {1})', _X, _Y);\\n    \\n    procedure Print() := Write(ToString());\\n    \\n    procedure Println() := Writeln(ToString());\\n  end;\\n\\nbegin\\n  var (A, B) := (TPoint.Readln(), TPoint.Readln());\\n  TPoint.DistanceBetween(A, B).Println();\\n  TPoint.Equals(A, B).Println();\\nend.\\n\\nДиапазон[править]\\nПервый подход[править]\\nuses System;\\nconst\\n  Eps = 1E-5; // Погрешность\\n\\ntype\\n  TRange = class(ICloneable, IEquatable<TRange>)\\n  private \\n    _A, _B: real;\\n    _IncludeA, _IncludeB: boolean;\\n    \\n    procedure TrySwap(var less, most: real);\\n    begin\\n      if most - less < -Eps then\\n        Swap(less, most);\\n    end;\\n    \\n    procedure SetA(v: real);\\n    begin\\n      TrySwap(v, _B);\\n      _A := v;\\n    end;\\n    \\n    procedure SetB(v: real);\\n    begin\\n      TrySwap(_A, v);\\n      _B := v;\\n    end;\\n    \\n    function AreEqual(a_, b_: real) := Abs(a_ - b_) <= Eps;\\n  \\n  public \\n    property A: real read _A write SetA; // Нижняя граница\\n    property B: real read _B write SetB; // Верхняя граница\\n    property IncludeA: boolean read _IncludeA write _IncludeA; // Включать ли нижнюю границу\\n    property IncludeB: boolean read _IncludeB write _IncludeB; // Включать ли верхнюю границу\\n    \\n    constructor(a_, b_: real);\\n    begin\\n      TrySwap(a_, b_);\\n      _A := a_;_B := b_;\\n    end;\\n    \\n    // Возвращает true, если точка внутри диапазона (учитывается Eps).\\n    function IsIn(c: real) := ((c - _A > Eps) or _IncludeA and AreEqual(_A, c)) and\\n                              ((_B - c > Eps) or _IncludeB and AreEqual(_B, c));\\n    \\n    function IsIn(r: TRange) := IsIn(r.A) and IsIn(r.B);\\n    \\n    function Clone(): object := new TRange(_A, _B);\\n    \\n    function CloneAs() := TRange(Clone());\\n    \\n    function Equals(r: TRange) := (Abs(_A - r.A) < Eps) and (Abs(_B - r.B) < Eps);\\n    \\n    class function Readln() := new TRange(ReadlnReal('A:'), ReadlnReal('B:'));\\n    \\n    class function operator in(c: real; r: TRange) := r.IsIn(c);\\n    \\n    class function operator in(r1, r2: TRange) := r2.IsIn(r1);\\n    \\n    function ToString() := Format('{0}{1}, {2}{3}', _IncludeA ? '[' : '(', _A, _B, _IncludeB ? ']' : ')');\\n    \\n    procedure Print() := Write(ToString());\\n    \\n    procedure Println() := Writeln(ToString());\\n  end;\\n\\nbegin\\n  var R := new TRange(-2, 2);\\n  R.Println();\\n  R.B := -8;\\n  R.IncludeA := true;\\n  R.Println();\\n  WritelnFormat('-4 внутри R: {0}.', -5 in R); // Эквивалентно: R.IsIn(-5).\\n  WritelnFormat('-2 внутри R: {0}.', -4 in R);\\n  WritelnFormat('Второй диапазон внутри R: {0}.', new TRange(-8, -2.1) in R);\\nend.\\n\\nВторой подход[править]\\ntype\\n  TRange = class\\n  private \\n    _A, _B: real;\\n    _IncludeA, _IncludeB: boolean;\\n    \\n    procedure TrySwap(var less, most: real);\\n    begin\\n      if most - less < -Eps then\\n        Swap(less, most);\\n    end;\\n    \\n    procedure SetA(v: real);\\n    begin\\n      TrySwap(v, _B);\\n      _A := v;\\n    end;\\n    \\n    procedure SetB(v: real);\\n    begin\\n      TrySwap(_A, v);\\n      _B := v;\\n    end;\\n    \\n    class function AreEqual(a_, b_: real) := Abs(a_ - b_) <= Eps;\\n  \\n  public \\n    property A: real read _A write SetA; // Нижняя граница\\n    property B: real read _B write SetB; // Верхняя граница\\n    property IncludeA: boolean read _IncludeA write _IncludeA; // Включать ли нижнюю границу\\n    property IncludeB: boolean read _IncludeB write _IncludeB; // Включать ли верхнюю границу\\n    \\n    constructor(a_, b_: real);\\n    begin\\n      TrySwap(a_, b_);\\n      _A := a_;_B := b_;\\n    end;\\n    \\n    // Возвращает true, если точка внутри диапазона (учитывается Eps).\\n    class function IsIn(r: TRange; c: real) := ((c - r.A > Eps) or r.IncludeA and TRange.AreEqual(r.A, c)) and\\n                                               ((r.B - c > Eps) or r.IncludeB and TRange.AreEqual(r.B, c));\\n    \\n    class function IsIn(big, small: TRange) := TRange.IsIn(big, small.A) and TRange.IsIn(big, small.B);\\n    \\n    class function Clone(r: TRange): object := new TRange(r.A, r.B);\\n    \\n    class function CloneAs(r: TRange) := TRange(Clone(r));\\n    \\n    class function Equals(r1, r2: TRange) := (Abs(r2.A - r1.A) < Eps) and (Abs(r2.B - r1.B) < Eps);\\n    \\n    class function Readln() := new TRange(ReadlnReal('A:'), ReadlnReal('B:'));\\n    \\n    class function operator in(c: real; r: TRange) := TRange.IsIn(r, c);\\n    \\n    class function operator in(small, big: TRange) := TRange.IsIn(big, small);\\n    \\n    function ToString() := Format('{0}{1}, {2}{3}', _IncludeA ? '[' : '(', _A, _B, _IncludeB ? ']' : ')');\\n    \\n    procedure Print() := Write(ToString());\\n    \\n    procedure Println() := Writeln(ToString());\\n  end;\\n\\nbegin\\n  var R := new TRange(-2, 2);\\n  R.Println();\\n  R.B := -8;\\n  R.IncludeA := true;\\n  R.Println();\\n  WritelnFormat('-4 внутри R: {0}.', -2.1 in R);\\n  WritelnFormat('-2 внутри R: {0}.', -4 in R);\\n  WritelnFormat('Второй диапазон внутри R: {0}.', new TRange(-8, -2.1) in R);\\nend.\\n\\nВектора[править]\\nДвумерный вектор[править]\\nuses System;\\nconst\\n  Eps = 1E-5; // Погрешность\\n\\ntype\\n  TVector2D = class(ICloneable, IEquatable<TVector2D>)\\n  private \\n    _X, _Y: real;\\n    \\n    function GetLength() := Sqrt(Sqr(_X) + Sqr(_Y));\\n    \\n    function GetAngle() := Math.Atan2(_Y, _X) + 2 * Pi * Ord(_Y < 0);\\n  \\n  public \\n    property X: real read _X write _X;\\n    property Y: real read _Y write _Y;\\n    property Length: real read GetLength; // Длина вектора\\n    property Angle: real read GetAngle; // Угол поворота вектора\\n    \\n    constructor(x_, y_: real);\\n    begin\\n      X := x_;Y := y_;\\n    end;\\n    \\n    procedure Normalize();\\n    begin\\n      var l := GetLength();\\n      _X /= l;_Y /= l;\\n    end;\\n    \\n    function DotProduct(v: TVector2D) := _X * v.X + _Y * v.Y; // Возвращает скалярное произведение векторов.\\n    \\n    function CrossProductAbs(v: TVector2D) := Abs(_X * v.Y - _Y * v.X); // Возвращает модуль векторного произведения (координаты z векторов self и v считаются равными 0).\\n    \\n    function IsCollinear(v: TVector2D) := CrossProductAbs(v) = 0; // Возвращает true, если векторы являются коллинеарными.\\n    \\n    procedure Add(v: TVector2D);\\n    begin\\n      _X += v.X;\\n      _Y += v.Y;\\n    end;\\n    \\n    procedure Subtract(v: TVector2D);\\n    begin\\n      _X -= v.X;\\n      _Y -= v.Y;\\n    end;\\n    \\n    procedure Multiply(k: real);\\n    begin\\n      _X *= k;\\n      _Y *= k;\\n    end;\\n    \\n    procedure Divide(k: real);\\n    begin\\n      _X /= k;\\n      _Y /= k;\\n    end;\\n    \\n    class function VectorX() := new TVector2D(1, 0);\\n    \\n    class function VectorY() := new TVector2D(0, 1);\\n    \\n    class function VectorSum(params vectors: array of TVector2D): TVector2D;// Возвращает вектор, получаемый суммированием всех векторов, указанных в параметрах.\\n    begin\\n      Result := new TVector2D(0, 0);\\n      foreach var vector in vectors do\\n        Result := Result + vector;\\n    end;\\n    \\n    function Clone(): object := new TVector2D(_X, _Y);\\n    \\n    function CloneAs() := TVector2D(Clone());\\n    \\n    function Equals(v: TVector2D) := (Abs(_X - v.X) < Eps) and (Abs(_Y - v.Y) < Eps);\\n    \\n    class function Readln() := new TVector2D(ReadlnInteger('X:'), ReadlnInteger('Y:'));\\n    \\n    class procedure operator+=(v, v1: TVector2D) := v.Add(v1);\\n    \\n    class procedure operator-=(v, v1: TVector2D) := v.Subtract(v1);\\n    \\n    class procedure operator*=(v: TVector2D; k: real) := v.Multiply(k);\\n    \\n    class procedure operator/=(v: TVector2D; k: real) := v.Divide(k);\\n    \\n    class function operator+(v, v1: TVector2D): TVector2D;\\n    begin\\n      Result := v.CloneAs();\\n      Result += v1;\\n    end;\\n    \\n    class function operator-(v, v1: TVector2D): TVector2D;\\n    begin\\n      Result := v.CloneAs();\\n      Result -= v1;\\n    end;\\n    \\n    class function operator*(v: TVector2D; k: real): TVector2D;\\n    begin\\n      Result := v.CloneAs();\\n      Result *= k;\\n    end;\\n    \\n    class function operator/(v: TVector2D; k: real): TVector2D;\\n    begin\\n      Result := v.CloneAs();\\n      Result /= k;\\n    end;\\n    \\n    class function operator-(v: TVector2D): TVector2D; // Возвращает новый вектор с координатами (-X, -Y).\\n    begin\\n      Result := v.CloneAs();\\n      Result *= -1;\\n    end;\\n    \\n    class function operator=(a, b: TVector2D) := a.Equals(b);\\n    \\n    class function operator<>(a, b: TVector2D) := not (a = b);\\n    \\n    function ToString() := Format('Vector({0}, {1})', _X, _Y);\\n    \\n    procedure Print() := Write(ToString());\\n    \\n    procedure Println() := Writeln(ToString());\\n  end;\\n\\nbegin\\n  var V1 := new TVector2D(4, 6);\\n  var V2 := new TVector2D(1, 3);\\n  Writeln((V1 + V2).ToString());\\nend.\\n\\nЕсли площадь параллелограмма равна нулю, то векторы коллинеарны. \\n\\nТрехмерный вектор[править]\\nuses System;\\nconst\\n  Eps = 1E-5; // Погрешность\\n\\ntype\\n  TVector3D = class(ICloneable, IEquatable<TVector3D>)\\n  private \\n    _X, _Y, _Z: real;\\n    \\n    function GetLength() := Sqrt(Sqr(_X) + Sqr(_Y) + Sqr(_Z));\\n    \\n    function AreEqual(v1, v2: real) := Abs(v1 - v2) < Eps;\\n    \\n  public \\n    property X: real read _X write _X;\\n    property Y: real read _Y write _Y;\\n    property Z: real read _Z write _Z;\\n    property Length: real read GetLength;\\n    \\n    constructor(x_, y_, z_: real);\\n    begin\\n      X := x_;Y := y_;Z := z_;\\n    end;\\n    \\n    procedure Normalize();\\n    begin\\n      var l := GetLength();\\n      _X /= l;_Y /= l;_Z /= l;\\n    end;\\n    \\n    function DotProduct(v: TVector3D) := _X * v.X + _Y * v.Y + _Z * v.Z;\\n    \\n    function CrossProduct(v: TVector3D) := new TVector3D(_Y * v.Z - v.Y * _Z, -(_X * v.Z - v.X * _Z), _X * v.Y - v.X * _Y);\\n    \\n    function IsCollinear(v: TVector3D) := CrossProduct(v).Length = 0;\\n    \\n    // Вычисляет смешанное произведение векторов в координатах.\\n    function MixedMult(v1, v2: TVector3D) := _X * v1.Y * v2.Z + _Y * v1.Z * v2.X + v1.X * v2.Y * _Z -\\n                                             v2.X * v1.Y * _Z - v1.X * _Y * v2.Z - v2.Y * v1.Z * _X;\\n    \\n    procedure Add(v: TVector3D);\\n    begin\\n      _X += v.X;\\n      _Y += v.Y;\\n      _Z += v.Z;\\n    end;\\n    \\n    procedure Subtract(v: TVector3D);\\n    begin\\n      _X -= v.X;\\n      _Y -= v.Y;\\n      _Z -= v.Z;\\n    end;\\n    \\n    procedure Multiply(k: real);\\n    begin\\n      _X *= k;\\n      _Y *= k;\\n      _Z *= k;\\n    end;\\n    \\n    procedure Divide(k: real);\\n    begin\\n      _X /= k;\\n      _Y /= k;\\n      _Z /= k;\\n    end;\\n    \\n    class function VectorX() := new TVector3D(1, 0, 0);\\n    \\n    class function VectorY() := new TVector3D(0, 1, 0);\\n    \\n    class function VectorZ() := new TVector3D(0, 0, 1);\\n    \\n    class function VectorSum(params vectors: array of TVector3D): TVector3D;\\n    begin\\n      Result := new TVector3D(0, 0, 0);\\n      foreach var vector in vectors do\\n        Result := Result + vector;\\n    end;\\n    \\n    function Clone(): object := new TVector3D(_X, _Y, _Z);\\n    \\n    function CloneAs() := TVector3D(Clone());\\n    \\n    function Equals(v: TVector3D) := AreEqual(_X, v.X) and AreEqual(_Y, v.Y) and AreEqual(_Z, v.Z);\\n    \\n    class function Readln() := new TVector3D(ReadlnInteger('X:'), ReadlnInteger('Y:'), ReadlnInteger('Z:'));\\n    \\n    class procedure operator+=(v, v1: TVector3D) := v.Add(v1);\\n    \\n    class procedure operator-=(v, v1: TVector3D) := v.Subtract(v1);\\n    \\n    class procedure operator*=(v: TVector3D; k: real) := v.Multiply(k);\\n    \\n    class procedure operator/=(v: TVector3D; k: real) := v.Divide(k);\\n    \\n    class function operator+(v, v1: TVector3D): TVector3D;\\n    begin\\n      Result := v.CloneAs();\\n      Result += v1;\\n    end;\\n    \\n    class function operator-(v, v1: TVector3D): TVector3D;\\n    begin\\n      Result := v.CloneAs();\\n      Result -= v1;\\n    end;\\n    \\n    class function operator*(v: TVector3D; k: real): TVector3D;\\n    begin\\n      Result := v.CloneAs();\\n      Result *= k;\\n    end;\\n    \\n    class function operator/(v: TVector3D; k: real): TVector3D;\\n    begin\\n      Result := v.CloneAs();\\n      Result /= k;\\n    end;\\n    \\n    class function operator-(v: TVector3D): TVector3D; // Возвращает новый вектор с координатами (-X, -Y).\\n    begin\\n      Result := v.CloneAs();\\n      Result *= -1;\\n    end;\\n    \\n    function ToString() := Format('Vector({0}, {1}, {2})', _X, _Y, _Z);\\n    \\n    procedure Print() := Write(ToString());\\n    \\n    procedure Println() := Writeln(ToString());\\n  end;\\n\\nbegin\\n  var (V1, V2, V3) := (new TVector3D(2, -1, 4), new TVector3D(7, 2, 3), new TVector3D(3, -2, 1));\\n  Writeln(V1.MixedMult(V2, V3).ToString());\\nend.\\n\\nЧто такое смешанное произведение?\\n\\nКласс окружности[править]\\ntype\\n  NegativeOrZeroRadiusException = class(Exception)\\n  end;\\n\\ntype\\n  TCircle = class(ICloneable, IEquatable<TCircle>)\\n  private \\n    _Center: TPoint;\\n    _R: real;\\n    \\n    procedure SetR(v: real);\\n    begin\\n      if v <= 0 then\\n        raise new NegativeOrZeroRadiusException('Отрицательный или равный нулю радиус не может быть у окружности.');\\n      _R := v;\\n    end;\\n    \\n    function GetD() := _R * 2;\\n    \\n    function GetLength() := 2 * Pi * _R;\\n    \\n  public \\n    property Center: TPoint read _Center write _Center; // Центр окружности\\n    property R: real read _R write _R; // Радиус\\n    property D: real read GetD; // Диаметр\\n    property Length: real read GetLength; // Длина окружности\\n    \\n    constructor(c: TPoint; radius: real);\\n    begin\\n      Center := c;\\n      R := radius;\\n    end;\\n    \\n    function IntersectsWith(c: TCircle) := _Center.DistanceTo(c.Center) < _R + c.R; // Возвращает true, если окружности пересекаются.\\n    \\n    function ConcernWith(c: TCircle) := _Center.DistanceTo(c.Center) = _R + c.R; // Возвращает true, если окружности касаются друг друга.\\n    \\n    function Clone(): object := new TCircle(_Center.CloneAs(), _R);\\n    \\n    function CloneAs() := TCircle(Clone());\\n    \\n    function Equals(c: TCircle) := _Center.Equals(c.Center) and (Abs(_R - c.R) < Eps);\\n    \\n    class function Readln() := new TCircle(TPoint.Readln(), ReadlnReal('R:'));\\n    \\n    function ToString() := Format('Circle({0}, {1})', _Center.ToString(), _R);\\n    \\n    procedure Print() := Write(ToString());\\n    \\n    procedure Println() := Writeln(ToString());\\n  end;\\n\\nbegin\\n  (new TCircle(new TPoint(0, 0), 5)).IntersectsWith(new TCircle(new TPoint(0, 5), 5)).Println();\\nend.\\n\\nКласс дроби[править]\\nuses System;\\n\\ntype\\n  TFraction = class(ICloneable, IEquatable<TFraction>, IComparable<TFraction>)\\n  private \\n    _Numerator, _Denominator: integer;\\n    _TryAlwaysReduce: boolean;\\n    _TryCutOutput: boolean;\\n  \\n  public \\n    procedure Reduce();\\n    begin\\n      var a := _Numerator;\\n      var b := _Denominator;\\n      while (a <> 0) and (b <> 0) do\\n        if a > b then a := a mod b else b := b mod a;\\n      \\n      var gcd := a + b;\\n      _Numerator := _Numerator div gcd;\\n      _Denominator := _Denominator div gcd;\\n    end;\\n  \\n  private \\n    procedure TryReduce();\\n    begin\\n      if _TryAlwaysReduce then Reduce();\\n    end;\\n    \\n    procedure SetDenominator(v: integer);\\n    begin\\n      if v = 0 then\\n        raise new Exception('Знаменатель не может быть нулем.');\\n      _Denominator := v;\\n    end;\\n    \\n    procedure SetTryAlwaysReduce(v: boolean);\\n    begin\\n      _TryAlwaysReduce := v;\\n      TryReduce();\\n    end;\\n  \\n  public \\n    property Numerator: integer read _Numerator write _Numerator; // Числитель\\n    property Denominator: integer read _Denominator write SetDenominator; // Знаменатель\\n    property TryAlwaysReduce: boolean read _TryAlwaysReduce write SetTryAlwaysReduce; // Сокращать ли всегда дробь (если возможно)\\n    property TryCutOutput: boolean read _TryCutOutput write _TryCutOutput; // Выводить ли только числитель (если знаменатель равен единице)\\n    \\n    constructor(n: integer; dn: integer := 1);\\n    begin\\n      Numerator := n;\\n      Denominator := dn;\\n    end;\\n    \\n    function ToReal() := _Numerator / _Denominator; // Возвращает вещественное число, соответствующее данной дроби.\\n    \\n    class function FromReal(a: real): TFraction; // Возвращает дробь, соответствующую данному вещественному числу.\\n    begin\\n      var n := Frac(a);\\n      var d := 1;\\n      while Frac(n) <> 0 do\\n      begin\\n        n *= 10;\\n        d *= 10;\\n      end;\\n      Result := new TFraction(Trunc(n), Trunc(d));\\n    end;\\n    \\n    procedure Add(f: TFraction);\\n    begin\\n      if _Denominator = f.Denominator then\\n        _Numerator += f.Numerator\\n      else\\n      begin\\n        _Numerator := _Numerator * f.Denominator + f.Numerator * _Denominator;\\n        _Denominator *= f.Denominator;\\n      end;\\n      TryReduce();\\n    end;\\n    \\n    procedure Subtract(f: TFraction);\\n    begin\\n      if _Denominator = f.Denominator then\\n        _Numerator -= f.Numerator\\n      else\\n      begin\\n        _Numerator := _Numerator * f.Denominator - f.Numerator * _Denominator;\\n        _Denominator *= f.Denominator;\\n      end;\\n      TryReduce();\\n    end;\\n    \\n    procedure Multiply(f: TFraction);\\n    begin\\n      _Numerator *= f.Numerator;\\n      _Denominator *= f.Denominator;\\n      TryReduce();\\n    end;\\n    \\n    procedure Divide(f: TFraction);\\n    begin\\n      _Numerator *= f.Denominator;\\n      _Denominator *= f.Numerator;\\n      TryReduce();\\n    end;\\n    \\n    function Clone(): object := new TFraction(_Numerator, _Denominator);\\n    \\n    function CloneAs() := TFraction(Clone());\\n    \\n    function Equals(f: TFraction) := (_Numerator = f.Numerator) and (_Denominator = f.Denominator);\\n    \\n    function CompareTo(f: TFraction): integer;\\n    begin\\n      var outcome := CloneAs();\\n      outcome.Subtract(f);\\n      var r := outcome.ToReal();\\n      if r > 0 then\\n        Result := 1\\n      else if r < 0 then\\n        Result := -1;\\n    end;\\n    \\n    class function Readln() := new TFraction(ReadlnInteger('Numerator:'), ReadlnInteger('Denominator:'));\\n    \\n    class procedure operator+=(f1, f2: TFraction) := f1.Add(f2);\\n    \\n    class procedure operator-=(f1, f2: TFraction) := f1.Subtract(f2);\\n    \\n    class procedure operator*=(f1, f2: TFraction) := f1.Multiply(f2);\\n    \\n    class procedure operator/=(f1, f2: TFraction) := f1.Divide(f2);\\n    \\n    class procedure operator+=(f1: TFraction; n: integer) := f1 += new TFraction(n, 1);\\n    \\n    class procedure operator-=(f1: TFraction; n: integer) := f1 -= new TFraction(n, 1);\\n    \\n    class procedure operator*=(f1: TFraction; n: integer) := f1 *= new TFraction(n, 1);\\n    \\n    class procedure operator/=(f1: TFraction; n: integer) := f1 -= new TFraction(n, 1);\\n    \\n    class function operator+(f1, f2: TFraction): TFraction;\\n    begin\\n      Result := f1.CloneAs();\\n      Result += f2;\\n    end;\\n    \\n    class function operator-(f1, f2: TFraction): TFraction;\\n    begin\\n      Result := f1.CloneAs();\\n      Result -= f2;\\n    end;\\n    \\n    class function operator*(f1, f2: TFraction): TFraction;\\n    begin\\n      Result := f1.CloneAs();\\n      Result *= f2;\\n    end;\\n    \\n    class function operator/(f1, f2: TFraction): TFraction;\\n    begin\\n      Result := f1.CloneAs();\\n      Result /= f2;\\n    end;\\n    \\n    class function operator-(f1: TFraction) := new TFraction(-f1.Numerator, f1.Denominator); // Возвращает дробь с противоположным знаком (минус вносится в числитель).\\n    \\n    class function operator=(f1, f2: TFraction) := f1.Equals(f2);\\n    \\n    class function operator<>(f1, f2: TFraction) := not (f1 = f2);\\n    \\n    class function operator>(f1, f2: TFraction) := f1.CompareTo(f2) = 1;\\n    \\n    class function operator>=(f1, f2: TFraction) := (f1 - f2).ToReal() >= 0;\\n    \\n    class function operator<(f1, f2: TFraction) := f1.CompareTo(f2) = -1;\\n    \\n    class function operator<=(f1, f2: TFraction) := (f1 - f2).ToReal() <= 0;\\n    \\n    function ToString(): string; override;\\n    begin\\n      if not _TryCutOutput then\\n        Result := Format('{0}/{1}', _Numerator, _Denominator)\\n      else if _Denominator = 1 then\\n        Result := _Numerator.ToString();\\n    end;\\n    \\n    procedure Print() := Write(ToString());\\n    \\n    procedure Println() := Writeln(ToString());\\n  end;\\n\\nbegin\\n  var F1 := new TFraction(3, 10);\\n  var F2 := new TFraction(1, 5);\\n  F1.CompareTo(F2).Println();\\n  (F1 + F2).Println();\\n  F1.TryAlwaysReduce := true;\\n  F1.Println();\\nend.\\n\\nМетоды расширения[править]\\nfunction Succ(self: TFraction): TFraction; extensionmethod; // Возвращает следующую дробь (если дробь равна, например, 2/5, то функция вернет 3/5).\\nbegin\\n  Result := new TFraction(Succ(self.Numerator), self.Denominator);\\nend;\\n\\nfunction Pred(self: TFraction): TFraction; extensionmethod; // Возвращает предыдущую дробь (если дробь равна, например, 4/5, то функция вернет 3/5).\\nbegin\\n  Result := new TFraction(Pred(self.Numerator), self.Denominator);\\nend;\\n\\nprocedure Inc(self: TFraction); extensionmethod; // Увеличивает числитель дроби на 1.\\nbegin\\n  self.Numerator += 1;\\nend;\\n\\nprocedure Dec(self: TFraction); extensionmethod; // Уменьшает числитель дроби на 1.\\nbegin\\n  self.Numerator -= 1;\\nend;\\n\\nfunction IsPositive(self: TFraction): boolean; extensionmethod; // Возвращает true, если дробь больше 0.\\nbegin\\n  Result := self.Numerator * self.Denominator > 0;\\nend;\\n\\nfunction IsNegative(self: TFraction): boolean; extensionmethod; // Возвращает true, если дробь меньше или равна 0.\\nbegin\\n  Result := not self.IsPositive();\\nend;\\n\\nКомплексное число[править]\\nuses System;\\nconst\\n  Eps = 1E-5; // Погрешность\\n\\ntype\\n  TComplex = class(ICloneable, IEquatable<TComplex>)\\n  private \\n    _X, _Y: real;\\n  \\n  public \\n    property X: real read _X write _X;\\n    property Y: real read _Y write _Y;\\n    \\n    constructor(x_, y_: real);\\n    begin\\n      X := x_;Y := y_;\\n    end;\\n    \\n    procedure Add(z: TComplex);\\n    begin\\n      _X += z.X;\\n      _Y += z.Y;\\n    end;\\n    \\n    procedure Subtract(z: TComplex);\\n    begin\\n      _X += z.X;\\n      _Y += z.Y;\\n    end;\\n    \\n    procedure Multiply(z: TComplex);\\n    begin\\n      var cx := _X;\\n      _X := _X * z.X - _Y * z.Y;\\n      _Y := cx * z.Y + z.X * _Y;\\n    end;\\n    \\n    procedure Divide(z: TComplex);\\n    begin\\n      var v := Sqr(z.X) + Sqr(z.Y);\\n      var cx := _X;\\n      _X := (_X * z.X - _Y * z.Y) / v;\\n      _Y := (z.X * _Y - cx * z.Y) / v;\\n    end;\\n    \\n    function Conjugate() := new TComplex(_X, -_Y);\\n    \\n    function Clone(): object := new TComplex(_X, _Y);\\n    \\n    function CloneAs() := TComplex(Clone());\\n    \\n    function Equals(p: TComplex) := (Abs(_X - p.X) < Eps) and (Abs(_Y - p.Y) < Eps);\\n    \\n    class function Readln() := new TComplex(ReadlnInteger('X:'), ReadlnInteger('Y:'));\\n    \\n    class procedure operator+=(z1, z2: TComplex) := z1.Add(z2);\\n    \\n    class procedure operator-=(z1, z2: TComplex) := z1.Subtract(z2);\\n    \\n    class procedure operator*=(z1, z2: TComplex) := z1.Multiply(z2);\\n    \\n    class procedure operator/=(z1, z2: TComplex) := z1.Divide(z2);\\n    \\n    class function operator+(z1, z2: TComplex): TComplex;\\n    begin\\n      Result := z1.CloneAs();\\n      Result += z2;\\n    end;\\n    \\n    class function operator-(z1, z2: TComplex): TComplex;\\n    begin\\n      Result := z1.CloneAs();\\n      Result -= z2;\\n    end;\\n    \\n    class function operator*(z1, z2: TComplex): TComplex;\\n    begin\\n      Result := z1.CloneAs();\\n      Result *= z2;\\n    end;\\n    \\n    class function operator/(z1, z2: TComplex): TComplex;\\n    begin\\n      Result := z1.CloneAs();\\n      Result /= z2;\\n    end;\\n    \\n    class function operator=(z1, z2: TComplex) := z1.Equals(z2);\\n    \\n    class function operator<>(z1, z2: TComplex) := not (z1 = z2);\\n    \\n    function ToString() := Format('Complex = {0} + i({1})', _X, _Y);\\n    \\n    procedure Print() := Write(ToString());\\n    \\n    procedure Println() := Writeln(ToString());\\n  end;\\n\\nbegin\\n  var Z1 := new TComplex(1, 3);\\n  var Z2 := new TComplex(5, -2);\\n  Z1.Println();\\n  Z2.Println();\\n  (Z1 * Z2).Println();\\nend.\\n\\nКласс матрицы[править]\\ntype\\n  InvalidSizeException = class(Exception)\\n  end;\\n\\ntype\\n  TMatrix = class(System.ICloneable, System.IEquatable<TMatrix>)\\n  private \\n    _A: array [,] of real;\\n    _RowsCount, _ColsCount: integer;\\n    \\n    procedure TryRaiseInvalidSizeException(v: integer);\\n    begin\\n      if v <= 0 then\\n        raise new InvalidSizeException('Недопустимое значение.');\\n    end;\\n    \\n    function GetItem(i, j: int64) := _A[i, j];\\n    \\n    procedure SetItem(i, j: int64; v: real) := _A[i, j] := v;\\n    \\n    procedure Resize() := SetLength(_A, _RowsCount, _ColsCount);\\n    \\n    procedure SetRowsCount(v: integer);\\n    begin\\n      TryRaiseInvalidSizeException(v);\\n      _RowsCount := v;\\n      Resize();\\n    end;\\n    \\n    procedure SetColCount(v: integer);\\n    begin\\n      TryRaiseInvalidSizeException(v);\\n      _ColsCount := v;\\n      Resize();\\n    end;\\n  \\n  public \\n    property Items[i, j: int64]: real read GetItem write SetItem;default;\\n    property RowsCount: integer read _RowsCount write SetRowsCount;\\n    property ColsCount: integer read _ColsCount write SetColCount;\\n    \\n    constructor(rCount: integer := 3; cCount: integer := 3);\\n    begin\\n      RowsCount := rCount;\\n      ColsCount := cCount;\\n      Resize();\\n    end;\\n    \\n    function Add(k: integer): TMatrix;\\n    begin\\n      for var i := 0 to Pred(_RowsCount) do\\n        for var j := 0 to Pred(_ColsCount) do\\n          _A[i, j] += k;\\n      Result := self;\\n    end;\\n    \\n    function Subtract(k: integer) := Add(-k);\\n    \\n    function Multiply(k: integer): TMatrix;\\n    begin\\n      for var i := 0 to Pred(_RowsCount) do\\n        for var j := 0 to Pred(_ColsCount) do\\n          _A[i, j] *= k;\\n      Result := self;\\n    end;\\n    \\n    function Divide(k: integer): TMatrix;\\n    begin\\n      for var i := 0 to Pred(_RowsCount) do\\n        for var j := 0 to Pred(_ColsCount) do\\n          _A[i, j] /= k;\\n      Result := self;\\n    end;\\n    \\n    function ToZero(): TMatrix; // Заполняет матрицу нулями и возвращает ссылку на нее.\\n    begin\\n      for var i := 0 to Pred(_RowsCount) do\\n        for var j := 0 to Pred(_ColsCount) do\\n          _A[i, j] := 0;\\n      Result := self;\\n    end;\\n    \\n    function ToUnitMatrix(): TMatrix; // Возвращает единичную матрицу.\\n    begin\\n      ToZero();\\n      for var i := 0 to Pred(_RowsCount) do\\n        _A[i, i] := 1;\\n      Result := self;\\n    end;\\n    \\n    function Transpose(): TMatrix; // Транспонирует матрицу.\\n    begin\\n      Result := new TMatrix(_ColsCount, _RowsCount);\\n      for var i := 0 to Pred(_RowsCount) do\\n        for var j := 0 to Pred(_ColsCount) do\\n          Result[j, i] := _A[i, j];\\n    end;\\n    \\n    function Resize(k: integer): TMatrix; // Изменяет размер матрицы, сохраняя отношение RowsCount / ColsCount.\\n    begin\\n      TryRaiseInvalidSizeException(k);\\n      _RowsCount *= k;\\n      _ColsCount *= k;\\n      Result := self;\\n    end;\\n    \\n    function Shuffle(): TMatrix;\\n    begin\\n      for var i := 0 to Pred(_RowsCount) do\\n        for var j := 0 to _ColsCount - 2 do\\n          Swap(_A[i, j], _A[i, Random(Succ(j), Pred(_ColsCount))]);\\n      Result := self;\\n    end;\\n    \\n    function AlgebraicComplement(i, j: integer): (integer, TMatrix); // Вычисляет алгебраическое дополнение и возвращает его в виде кортежа вида (integer, TMatrix).\\n    begin\\n      var outcome := new TMatrix(Pred(_RowsCount), Pred(_ColsCount));\\n      for var i1 := 0 to Pred(_RowsCount) do\\n        for var j1 := 0 to Pred(_ColsCount) do\\n          if (i1 <> i) and (j1 <> j) then\\n          begin\\n            var i2 := i1 - 1 * Ord(i1 > i);\\n            var j2 := j1 - 1 * Ord(j1 > j);\\n            outcome[i2, j2] := _A[i1, j1];\\n          end;\\n      Result := (1 - 2 * Ord((i + j) mod 2 <> 0), outcome);\\n    end;\\n    \\n    function Clone(): object;\\n    begin\\n      var outcome := new TMatrix(_RowsCount, _ColsCount);\\n      for var i := 0 to Pred(_RowsCount) do\\n        for var j := 0 to Pred(_ColsCount) do\\n          outcome[i, j] := _A[i, j];\\n      Result := outcome;\\n    end;\\n    \\n    function CloneAs() := TMatrix(Clone());\\n    \\n    function Equals(m: TMatrix): boolean;\\n    begin\\n      if (_RowsCount <> m.RowsCount) or (_ColsCount <> m.ColsCount) then\\n        raise new System.InvalidOperationException('Матрицы имеют различные размеры.');\\n      \\n      Result := true;\\n      for var i := 0 to Pred(_RowsCount) do\\n      begin\\n        for var j := 0 to Pred(_ColsCount) do\\n          if _A[i, j] <> m[i, j] then\\n          begin\\n            Result := false;\\n            break;\\n          end;\\n        if not Result then break;\\n      end;\\n    end;\\n    \\n    class function Readln(rCount, cCount: integer): TMatrix;\\n    begin\\n      Result := new TMatrix(rCount, cCount);\\n      for var i := 0 to Pred(rCount) do\\n        for var j := 0 to Pred(cCount) do\\n          Result[i, j] := ReadlnInteger(Format('Value ({0}, {1}):', Succ(i), Succ(j)));;\\n    end;\\n    \\n    class procedure operator+=(m: TMatrix; k: integer) := m.Add(k);\\n    \\n    class procedure operator-=(m: TMatrix; k: integer) := m.Subtract(k);\\n    \\n    class procedure operator*=(m: TMatrix; k: integer) := m.Multiply(k);\\n    \\n    class procedure operator/=(m: TMatrix; k: integer) := m.Divide(k);\\n    \\n    class function operator+(m: TMatrix; k: integer): TMatrix;\\n    begin\\n      Result := m.CloneAs();\\n      Result += k;\\n    end;\\n    \\n    class function operator-(m: TMatrix; k: integer) := m + (-k);\\n    \\n    class function operator*(m: TMatrix; k: integer): TMatrix;\\n    begin\\n      Result := m.CloneAs();\\n      Result *= k;\\n    end;\\n    \\n    class function operator/(m: TMatrix; k: integer): TMatrix;\\n    begin\\n      Result := m.CloneAs();\\n      Result /= k;\\n    end;\\n    \\n    class function operator*(m1, m2: TMatrix): TMatrix; // Возвращает результат умножения матриц.\\n    begin\\n      Result := new TMatrix(m1.RowsCount, m2.ColsCount);\\n      for var i := 0 to Pred(Result.RowsCount) do\\n        for var j := 0 to Pred(Result.ColsCount) do\\n          for var k := 0 to Pred(Result.RowsCount) do\\n            Result[i, j] += m1[i, k] + m2[k, j];\\n    end;\\n    \\n    class function operator-(m: TMatrix) := m * (-1);\\n    \\n    class function operator=(m1, m2: TMatrix) := m1.Equals(m2);\\n    \\n    class function operator<>(m1, m2: TMatrix) := not (m1 = m2);\\n    \\n    function ToString() := Format('Matrix {0}x{1}', _RowsCount, _ColsCount);\\n    \\n    function Print(): TMatrix;\\n    begin\\n      Write(ToString());\\n      Result := self;\\n    end;\\n    \\n    function Println(): TMatrix;\\n    begin\\n      Result := Print();\\n      Write();\\n    end;\\n    \\n    function WritelnMatrix(width: integer := 4): TMatrix; // Выводит содержимое матрицы.\\n    begin\\n      for var i := 0 to Pred(_RowsCount) do\\n      begin\\n        for var j := 0 to Pred(_ColsCount) do\\n          Write(_A[i, j]:width);\\n        Writeln();\\n      end;\\n      Result := self;\\n    end;\\n  end;\\n\\nbegin\\n  TMatrix.Readln(ReadlnInteger('Rows count 1:'), ReadlnInteger('Cols count 1:')).WritelnMatrix();\\nend.\\n\\nМетоды расширения[править]\\nfunction First(self: TMatrix): real; extensionmethod;\\nbegin\\n  Result := self[0, 0];\\nend;\\n\\nfunction Last(self: TMatrix): real; extensionmethod;\\nbegin\\n  Result := self[Pred(self.RowsCount), Pred(self.ColsCount)];\\nend;\\n\\nfunction Min(self: TMatrix): real; extensionmethod;\\nbegin\\n  Result := integer.MaxValue;\\n  for var i := 0 to Pred(self.RowsCount) do\\n    for var j := 0 to Pred(self.ColsCount) do\\n      if self[i, j] < Result then\\n        Result := self[i, j];\\nend;\\n\\nfunction Max(self: TMatrix): real; extensionmethod;\\nbegin\\n  Result := integer.MinValue;\\n  for var i := 0 to Pred(self.RowsCount) do\\n    for var j := 0 to Pred(self.ColsCount) do\\n      if self[i, j] > Result then\\n        Result := self[i, j];\\nend;\\n\\nfunction Average(self: TMatrix): real; extensionmethod; // Возвращает среднее значение элементов матрицы.\\nbegin\\n  for var i := 0 to Pred(self.RowsCount) do\\n    for var j := 0 to Pred(self.ColsCount) do\\n      Result += self[i, j];\\n  Result /= self.RowsCount * self.ColsCount;\\nend;\\n\\nfunction Cartesian(self, m: TMatrix): sequence of (real, real); extensionmethod; // Возвращает декартово произведение двух матриц в виде кортежей вида (integer, integer).\\nbegin\\n  for var i := 0 to Pred(self.RowsCount) do\\n    for var j := 0 to Pred(self.ColsCount) do\\n      for var i1 := 0 to Pred(m.RowsCount) do\\n        for var j1 := 0 to Pred(m.ColsCount) do\\n          yield (self[i, j], m[i1, j1]);\\nend;\\n\\nfunction SwapRows(self: TMatrix; i1, i2: integer): TMatrix; extensionmethod;\\nbegin\\n  for var j := 0 to Pred(self.ColsCount) do\\n  begin\\n    var c := self[i1, j];\\n    self[i1, j] := self[i2, j];\\n    self[i2, j] := c;\\n  end;\\n  Result := self;\\nend;\\n\\nfunction SwapCols(self: TMatrix; j1, j2: integer): TMatrix; extensionmethod;\\nbegin\\n  for var i := 0 to Pred(self.RowsCount) do\\n  begin\\n    var c := self[i, j1];\\n    self[i, j1] := self[i, j2];\\n    self[i, j2] := c;\\n  end;\\n  Result := self;\\nend;\\n\\nfunction SwapRowsSucc(self: TMatrix; i: integer): TMatrix; extensionmethod;\\nbegin\\n  Result := self.SwapRows(i, Succ(i));\\nend;\\n\\nfunction SwapRowsPred(self: TMatrix; i: integer): TMatrix; extensionmethod;\\nbegin\\n  Result := self.SwapRows(i, Pred(i));\\nend;\\n\\nfunction SwapColsSucc(self: TMatrix; j: integer): TMatrix; extensionmethod;\\nbegin\\n  Result := self.SwapCols(j, Succ(j));\\nend;\\n\\nfunction SwapColsPred(self: TMatrix; j: integer): TMatrix; extensionmethod;\\nbegin\\n  Result := self.SwapCols(j, Pred(j));\\nend;\\n\\nfunction InsertRow(self: TMatrix; row: array of real; i: integer): TMatrix; extensionmethod;\\nbegin\\n  if row.Length <> self.ColsCount then\\n    raise new Exception('Длина массива не равна количеству столбцов.');\\n  \\n  self.RowsCount += 1;\\n  \\n  for var i1 := self.RowsCount - 2 downto i do\\n    self.SwapRowsSucc(i1);\\n  \\n  for var j := 0 to Pred(self.ColsCount) do\\n    self[i, j] := row[j];\\n  Result := self;\\nend;\\n\\nfunction InsertCol(self: TMatrix; col: array of real; j: integer): TMatrix; extensionmethod;\\nbegin\\n  if col.Length <> self.RowsCount then\\n    raise new Exception('Длина массива не равна количеству строк.');\\n  \\n  self.ColsCount += 1;\\n  \\n  for var j1 := self.ColsCount - 2 downto j do\\n    self.SwapColsSucc(j1);\\n  \\n  for var i := 0 to Pred(self.RowsCount) do\\n    self[i, j] := col[i];\\n  Result := self;\\nend;\\n\\nПреобразования на плоскости[править]\\nКласс линейного оператора[править]\\ntype\\n  TTransformFunc = function(x: real): real; // Тип функции преобразования.\\n  TLinearOperatorMatrix2D = class\\n  private \\n    _A, _B, _C, _D: real;\\n  \\n  public \\n    property A: real read _A write _A;\\n    property B: real read _B write _B;\\n    property C: real read _C write _C;\\n    property D: real read _D write _D;\\n    \\n    constructor(vi, vj: TVector2D; xF, yF: TTransformFunc);\\n    begin\\n      _A := xF(vi.X);_C := yF(vi.Y);\\n      _B := xF(vj.X);_D := yF(vj.Y);\\n    end;\\n    \\n    constructor(va, vb, vc, vd: real);\\n    begin\\n      _A := va;_B := vb;\\n      _C := vc;_D := vd;\\n    end;\\n    \\n    class function ScaleOperator(k: integer) := new TLinearOperatorMatrix2D(k, 0, 0, k); // Возвращает оператор масштабирования.\\n    \\n    class function BiasOperator() := new TLinearOperatorMatrix2D(1, 1, 0, 1); // Возвращает оператор сдвига плоскости.\\n    \\n    function ApplyToVector(v: TVector2D) := new TVector2D(v.X * _A + v.Y * _B, v.X * _C + v.Y * _D); // Применяет преобразование к вектору.\\n    \\n    function ToString() := Format('{0}, {1}; {2}, {3}', _A, _B, _C, _D);\\n    \\n    procedure Print() := Write(ToString());\\n    \\n    procedure Println() := Writeln(ToString());\\n  end;\\n\\nbegin\\n  var Op := TLinearOperatorMatrix2D.ScaleOperator(3);\\n  Op.Println();\\n  Op.ApplyToVector(new TVector2D(2, 2)).Println();\\nend.\\n\\nЧто такое линейный оператор?\\n\\nСтруктуры данных для графики[править]\\nКласс цвета[править]\\ntype\\n  TColor = class(System.ICloneable, System.IEquatable<TColor>)\\n  private \\n    _R, _G, _B: byte;\\n  \\n    function RandomFromPair(v1, v2: byte): byte;\\n    begin\\n      Result := v1;\\n      if Random(100) mod 2 = 0 then\\n        Result := v2;\\n    end;\\n    \\n  public \\n    property R: byte read _R write _R;\\n    property G: byte read _G write _G;\\n    property B: byte read _B write _B;\\n    \\n    constructor(r_, g_, b_: byte);\\n    begin\\n      R := r_;\\n      G := g_;\\n      B := b_;\\n    end;\\n    \\n    procedure Add(c1: TColor);\\n    begin\\n      (_R, _G, _B) := (_R + c1.R, _G + c1.G, _B + c1.B);\\n    end;\\n    \\n    procedure Subtract(c1: TColor);\\n    begin\\n      (_R, _G, _B) := (_R - c1.R, _G - c1.G, _B - c1.B);\\n    end;\\n    \\n    procedure Multiply(c1: TColor);\\n    begin\\n      (_R, _G, _B) := (_R * c1.R, _G * c1.G, _B * c1.B);\\n    end;\\n    \\n    procedure Divide(c1: TColor);\\n    begin\\n      (_R, _G, _B) := (_R div c1.R, _G div c1.G, _B div c1.B);\\n    end;\\n    \\n    procedure &Mod(c1: TColor);\\n    begin\\n      (_R, _G, _B) := (_R mod c1.R, _G mod c1.G, _B mod c1.B);\\n    end;\\n    \\n    procedure Darken(c1: TColor);\\n    begin\\n      (_R, _G, _B) := (Min(_R, c1.R), Min(_G, c1.G), Min(_B, c1.B));\\n    end;\\n    \\n    procedure Brighten(c1: TColor);\\n    begin\\n      (_R, _G, _B) := (Max(_R, c1.R), Max(_G, c1.G), Max(_B, c1.B));\\n    end;\\n    \\n    procedure RandomFrom(c1: TColor);\\n    begin\\n      (_R, _G, _B) := (RandomFromPair(_R, c1.R), RandomFromPair(_G, c1.G), RandomFromPair(_B, c1.B));\\n    end;\\n    \\n    procedure Invert();\\n    begin\\n      (_R, _G, _B) := (255 - _R, 255 - _G, 255 - _B);\\n    end;\\n    \\n    function Clone(): object := new TColor(_R, _G, _B);\\n    \\n    function CloneAs() := TColor(Clone());\\n    \\n    function Equals(c: TColor) := (_R = c.R) and (_G = c.G) and (_B = c.B);\\n    \\n    class function Readln() := new TColor(ReadlnInteger('R:'), ReadlnInteger('G:'), ReadlnInteger('B:'));\\n    \\n    class procedure operator+=(c1, c2: TColor) := c1.Add(c2);\\n    \\n    class procedure operator-=(c1, c2: TColor) := c1.Subtract(c2);\\n    \\n    class procedure operator*=(c1, c2: TColor) := c1.Multiply(c2);\\n    \\n    class function operator+(c1, c2: TColor): TColor;\\n    begin\\n      Result := c1.CloneAs();\\n      Result.Add(c2);\\n    end;\\n    \\n    class function operator-(c1, c2: TColor): TColor;\\n    begin\\n      Result := c1.CloneAs();\\n      Result.Subtract(c2);\\n    end;\\n    \\n    class function operator*(c1, c2: TColor): TColor;\\n    begin\\n      Result := c1.CloneAs();\\n      Result.Multiply(c2);\\n    end;\\n    \\n    class function operator div(c1, c2: TColor): TColor;\\n    begin\\n      Result := c1.CloneAs();\\n      Result.Divide(c2);\\n    end;\\n    \\n    class function operator mod(c1, c2: TColor): TColor;\\n    begin\\n      Result := c1.CloneAs();\\n      Result.Mod(c2);\\n    end;\\n    \\n    class function operator-(c1: TColor): TColor;\\n    begin\\n      Result := c1.CloneAs();\\n      Result.Invert();\\n    end;\\n    \\n    class function operator=(c1, c2: TColor) := c1.Equals(c2);\\n    \\n    class function operator<>(c1, c2: TColor) := not (c1 = c2);\\n    \\n    function ToString() := Format('Color({0}, {1}, {2})', _R, _G, _B);\\n    \\n    procedure Print() := Write(ToString());\\n    \\n    procedure Println() := Writeln(ToString());\\n  end;\\n\\nbegin\\n  (-(new TColor(155, 10, 10) + new TColor(55, 50, 10))).Println();\\nend.\\n\\nКласс черепашки[править]\\nuses GraphABC;\\ntype\\n  TTurtle = class(System.ICloneable)\\n  private \\n    _SavedX, _SavedY: real;\\n    _CoordinatesAreSaved: boolean;\\n    \\n    _SavedAngle: real;\\n    _AngleIsSaved: boolean;\\n    \\n    _X, _Y: real;\\n    _Step: real;\\n    _MustDraw: boolean;\\n    _Angle: real;\\n    \\n    procedure TurtleLine(x1, y1, x2, y2: real);\\n    begin\\n      if _MustDraw then\\n        Line(Round(x1), Round(y1), Round(x2), Round(y2));\\n    end;\\n  \\n  public \\n    property X: real read _X; // X координата черепашки\\n    property Y: real read _Y; // Y координата черепашки\\n    property Step: real read _Step write _Step; // Длина одного шага\\n    property MustDraw: boolean read _MustDraw write _MustDraw; // Рисовать ли отрезки\\n    property Angle: real read _Angle; // Угол поворота\\n    property CoordinatesAreSaved: boolean read _CoordinatesAreSaved;\\n    property AngleIsSaved: boolean read _AngleIsSaved;\\n    \\n    constructor(a: real := 90; s: real := 50);\\n    begin\\n      _Angle := a;\\n      _X := Window.Width / 2;\\n      _Y := Window.Height / 2;\\n      Step := s;\\n      MustDraw := true;\\n    end;\\n    \\n    procedure DecAngle(rotation: real) := _Angle -= rotation;\\n    \\n    procedure IncAngle(rotation: real) := _Angle += rotation;\\n    \\n    procedure MoveForward(); // Выполняет смещение вперед.\\n    begin\\n      var ang := DegToRad(_Angle);\\n      var (x1, y1) := (_X + _Step * Cos(ang), _Y + _Step * Sin(ang));\\n      TurtleLine(_X, _Y, x1, y1);\\n      (_X, _Y) := (x1, y1);\\n    end;\\n    \\n    procedure MoveBackward(); // Выполняет смещение назад.\\n    begin\\n      var ang := DegToRad(_Angle);\\n      var (x1, y1) := (_X - _Step * Cos(ang), _Y - _Step * Sin(ang));\\n      TurtleLine(_X, _Y, x1, y1);\\n      (_X, _Y) := (x1, y1);\\n    end;\\n    \\n    procedure MoveTo(cx, cy: real);\\n    begin\\n      (_X, _Y) := (cx, cy);\\n    end;\\n    \\n    procedure SaveCoordinates(); // Сохраняет координаты\\n    begin\\n      _CoordinatesAreSaved := true;\\n      (_SavedX, _SavedY) := (_X, _Y);\\n    end;\\n    \\n    function LoadCoordinates(): boolean; // Загружает сохраненные координаты\\n    begin\\n      if not _CoordinatesAreSaved then exit;\\n      (_X, _Y) := (_SavedX, _SavedY);\\n      Result := _CoordinatesAreSaved;\\n    end;\\n    \\n    procedure ClearSavedCoordinates() := _CoordinatesAreSaved := false; // Отменяет сохранение координат\\n    \\n    procedure SaveAngle(); // Сохраняет угол поворота\\n    begin\\n      _AngleIsSaved := true;\\n      _SavedAngle := _Angle;\\n    end;\\n    \\n    function LoadAngle(): boolean; // Загружает сохраненный угол\\n    begin\\n      if _AngleIsSaved then\\n        _Angle := _SavedAngle;\\n      Result := _AngleIsSaved;\\n    end;\\n    \\n    procedure ClearSavedAngle() := _AngleIsSaved := false; // Отменяет сохранение угла\\n    \\n    function Clone(): object;\\n    begin\\n      var outcome := new TTurtle(_Angle, _Step);\\n      outcome.MoveTo(_X, _Y);\\n      outcome.MustDraw := _MustDraw;\\n      Result := outcome;\\n    end;\\n    \\n    function CloneAs() := TTurtle(Clone());\\n    \\n    function ToString() := Format('Motion vector: ({0}, {1})', _X, _Y);\\n    \\n    procedure Print() := Write(ToString());\\n    \\n    procedure Println() := Writeln(ToString());\\n  end;\\n\\nbegin\\n  var T := new TTurtle(45);\\n  T.MoveForward();\\n  T.DecAngle(45);\\n  T.MoveForward();\\nend.\\n\\nСсылки[править]\\nДинамические структуры данных\",)\n",
            "('Гигиенические основы и медицинский контроль за физическим воспитанием школьников\\n\\nСодержание\\n\\n1 Внешние признаки небольшой степени утомления:\\n2 Внешние признаки переутомления:\\n3 Гигиенически эффективным для школьников основной медицинской группы является урок физкультуры, характеризующийся следующими показателями:\\n4 Гиперкинезия у детей и подростков может вызывать:\\n5 Гиперкинезия – это:\\n6 Гипокинезия – это:\\n7 Гипокинезия у детей и подростков может вызывать:\\n8 Двигательная активность – это:\\n9 Дефицит белка, истощение симпатико-адреналовой системы и ускорение процесса окостенения являются проявлением:\\n10 Дефицит двигательной активности обозначается термином:\\n11 Для контроля за соответствием предлагаемой физической нагрузки анатомо-физиологическим особенностям детского организма используют:\\n12 Для построения физиологической кривой урока физического воспитания необходимо измерение пульса:\\n13 Естественная биологическая потребность детей в движении обозначается термином:\\n14 Зависимость между величиной двигательной активности и состоянием здоровья ребенка:\\n15 Задачи основной части урока физкультуры:\\n16 Занятия с учащимися подготовительной группы физического воспитания организуются:\\n17 Занятия с учащимися специальной группы физического воспитания организуются:\\n18 Кинезофилия – это:\\n19 Медицинский контроль за физическим воспитанием осуществляет:\\n20 Моторная плотность гигиенически эффективного урока физкультуры для школьников основной группы составляет:\\n21 Моторная плотность занятия – это:\\n22 Небольшая степень утомления является:\\n23 Нормальной реакцией сердечно-сосудистой системы на физическую нагрузку является:\\n24 Общая плотность занятия – это:\\n25 Обязательными формами физического воспитания в образовательных учреждениях являются:\\n26 Основные задачи заключительной части урока физкультуры:\\n27 Основные задачи подготовительной части урока физкультуры:\\n28 Перевод учащегося из специальной медицинской группы в подготовленную осуществляется на основании\\n29 Полное освобождение от занятий физкультурой:\\n30 Применение форм и средств физического воспитания должно производиться с учетом:\\n31 Продолжительность основной части занятия физической культурой:\\n32 Продолжительность подготовительной части (разминки) занятия физической культурой:\\n33 Распределение школьников на основную, подготовительную и специальную группы осуществляется с учетом:\\n34 Решение о переводе ребенка из одной медицинской группы для занятий физкультурой в другую принимает:\\n35 Сенситивные периоды – это:\\n36 Структура занятия физической культуры должна включать:\\n37 Суммарная величина разнообразных движений за промежуток времени (час, сутки) обозначается термином:\\n38 Характерные признаки гипокинезической болезни:\\n39 Физическое воспитание – это:\\n40 Чрезмерная двигательная активность обозначается термином:\\n41 источники\\n\\n\\n\\nВнешние признаки небольшой степени утомления:[править]\\n– жалобы отсутствуют\\n– учащенное дыхание\\n– незначительное покраснение кожных покровов\\n– движения не нарушены\\n\\nВнешние признаки переутомления:[править]\\n– жалобы на резкую усталость, боль в ногах, головокружение, жжение в груди, тошноту\\n– учащенное, поверхностное, беспорядочное дыхание (вплоть до одышки)\\n– резкое покраснение или побледнение кожных покровов (может быть синюшность)\\n– покачивание, нарушение координации движений\\n\\nГигиенически эффективным для школьников основной медицинской группы является урок физкультуры, характеризующийся следующими показателями:[править]\\n– моторная плотность – 80%, максимальный прирост пульса – 100%, восстановление его на 3-й минуте после урока\\n\\nГиперкинезия у детей и подростков может вызывать:[править]\\n– нарушения обмена веществ (дефицит белка)\\n– истощение симпатико-адреналовой системы\\n– снижение иммунореактивности\\n– задержку физического развития (замедление или преждевременное прекращение роста тела в длину)\\n\\nГиперкинезия – это:[править]\\n– избыток двигательной активности\\n\\nГипокинезия – это:[править]\\n– дефицит двигательной активности\\n\\nГипокинезия у детей и подростков может вызывать:[править]\\n– снижение иммунореактивности\\n– дисгармоничность физического развития за счет избытка массы тела\\n– появление астено-невротических расстройств\\n– снижение функциональных показателей мышечной и дыхательной системы\\n\\nДвигательная активность – это:[править]\\n– суммарная величина разнообразных движений за определенный промежуток времени\\n\\nДефицит белка, истощение симпатико-адреналовой системы и ускорение процесса окостенения являются проявлением:[править]\\n– гиперкинезии\\n\\nДефицит двигательной активности обозначается термином:[править]\\n– гипокинезия\\n\\nДля контроля за соответствием предлагаемой физической нагрузки анатомо-физиологическим особенностям детского организма используют:[править]\\n– пульс\\n\\nДля построения физиологической кривой урока физического воспитания необходимо измерение пульса:[править]\\n– перед началом занятия\\n– в конце каждой структурной части занятия\\n– в течение восстановительного периода\\n\\nЕстественная биологическая потребность детей в движении обозначается термином:[править]\\n– кинезофилия\\n\\nЗависимость между величиной двигательной активности и состоянием здоровья ребенка:[править]\\n– параболическая\\n\\nЗадачи основной части урока физкультуры:[править]\\n– развитие физических качеств\\n– обучение основным двигательным навыкам и их закрепление\\n– тренировка различных мышечных групп\\n– совершенствование физиологических функции организма\\n\\nЗанятия с учащимися подготовительной группы физического воспитания организуются:[править]\\n– вместе с основной группой, по той же программе, но со снижением нагрузки и без сдачи нормативов\\n\\nЗанятия с учащимися специальной группы физического воспитания организуются:[править]\\n– вне сетки расписания, по своей программе\\n\\nКинезофилия – это:[править]\\n– естественная биологическая потребность ребенка в движении\\n\\nМедицинский контроль за физическим воспитанием осуществляет:[править]\\n– школьный врач\\n\\nМоторная плотность гигиенически эффективного урока физкультуры для школьников основной группы составляет:[править]\\n– не менее 70%\\n\\nМоторная плотность занятия – это:[править]\\n– отношение времени, занятого движениями, к общему времени занятия, выраженное в процентах\\n\\nНебольшая степень утомления является:[править]\\n– обязательной реакцией организма на тренирующую физическую нагрузку\\n\\nНормальной реакцией сердечно-сосудистой системы на физическую нагрузку является:[править]\\n– восстановление пульса и давления до исходных величин за 3-5 минут\\n– учащение пульса\\n– повышение систолического давления\\n\\nОбщая плотность занятия – это:[править]\\n– отношение времени, занятого учебной работой, к общему времени занятия, выраженное в процентах\\n\\nОбязательными формами физического воспитания в образовательных учреждениях являются:[править]\\n– гимнастика до учебных занятий\\n– уроки физической культуры\\n– физкультурные минуты во время уроков\\n\\nОсновные задачи заключительной части урока физкультуры:[править]\\n– обеспечение постепенного перехода от повышенной мышечной деятельности к умеренной\\n– снятие двигательного возбуждения\\n\\nОсновные задачи подготовительной части урока физкультуры:[править]\\n– постепенная подготовка организма к предстоящей повышенной физической нагрузке\\n– активизация внимания учащихся\\n– создание у учащихся положительного эмоционального настроя\\n\\nПеревод учащегося из специальной медицинской группы в подготовленную осуществляется на основании[править]\\n– результатов функциональных проб\\n– течения основного заболевания\\n\\nПолное освобождение от занятий физкультурой:[править]\\n– может быть только временным\\n\\nПрименение форм и средств физического воспитания должно производиться с учетом:[править]\\n– пола\\n– состояния здоровья\\n– возраста\\n– физической тренированности\\n\\nПродолжительность основной части занятия физической культурой:[править]\\n– 25-30 минут\\n\\nПродолжительность подготовительной части (разминки) занятия физической культурой:[править]\\n– составляет 5-10 минут\\n\\nРаспределение школьников на основную, подготовительную и специальную группы осуществляется с учетом:[править]\\n– физической подготовленности\\n– состояния здоровья\\n\\nРешение о переводе ребенка из одной медицинской группы для занятий физкультурой в другую принимает:[править]\\n– школьный врач\\n\\nСенситивные периоды – это:[править]\\n– периоды повышенной чувствительности (восприимчивости) к воздействию тех или иных физических упражнений\\n\\nСтруктура занятия физической культуры должна включать:[править]\\n– подготовительную часть (разминку)\\n– основную часть (период максимальной нагрузки)\\n– заключительную часть (восстановительную часть)\\n\\nСуммарная величина разнообразных движений за промежуток времени (час, сутки) обозначается термином:[править]\\n– двигательная активность\\n\\nХарактерные признаки гипокинезической болезни:[править]\\n– отставание в развитии двигательных качеств\\n– быстрая утомляемость при физической нагрузке\\n– расстройства в деятельности ЦНС\\n– возможность развития астенического синдрома\\n\\nФизическое воспитание – это:[править]\\n– организованный процесс воздействия на человека физических упражнений, природных факторов и гигиенических мероприятий с целью укрепления здоровья\\n\\nЧрезмерная двигательная активность обозначается термином:[править]\\n– гиперкинезия\\n\\nисточники[править]\\nссылка 1\\nссылка 2',)\n",
            "('Пенная фея\\n\\nДжин Old Tom — 60 г\\nАбсент — 15 г\\nСвежевыжатый лимонный сок — 15 г\\nЯичный белок (сырой) — 1 шт\\nГорький биттер (любой) — несколько капель (достаточно черырёх)\\nВлейте в шейкер джин, лимонный сок, абсент и яичный белок.\\nЭнергично встряхивайте не менее 30 секунд.\\nДобавьте в шейкер лёд на 2/3, и снова встряхивайте, чтобы образовалась пена.\\nДважды процедите коктейль через ситечко в охлажденный коктейльный бокал.\\nДайте пене подняться, а потом аккуратно влейте несколько капель биттера. \\nисточник: https://xn--b1agapphj9gwb.xn--p1ai/koktejli-s-absentom-2/',)\n",
            "('Type Eh\\n\\nканадский виски – 30 мл,\\nликёр на травах – 30 мл,\\nсладкий вермут – 30 мл,\\nлимонный сок – чайная ложка,\\nщепотка соли с запахом копчения.\\nСмешать ингредиенты в шейкере со льдом, процедить в широкий бокал для шампанского (куп).\\nисточник: http://alkogol.news/interesnye-facty/chetyre-kokteylya-s-raznymi-viski',)\n",
            "('Ананасовое блаженство\\n\\nводка\\t20 мл\\nананасовый фреш\\t115 мл\\nлимонный сок\\t10 мл\\nлед в кубиках\\t4-6 шт.\\nананас\\t1 кусочек\\nБокал доверху наполняем кубиками льда.\\nПоверх льда наливаем крепкий алкоголь и ананасовый фреш.\\nСлегка все размешиваем, после чего добавляем фреш лимона.\\nНастаиваем напиток 2-3 минуты, а затем медленно потягиваем его через соломинку.\\nВ качестве украшения используем мякоть свежего ананаса.\\nИсточник: https://gradusinfo.ru/alkogol/koktejli/s-vodkoj/s-sokom-2.html',)\n",
            "('Рауль и Фидель\\nанглийское название: Raul and Fidel\\n\\nСверхкрепкий ром 10\\tмл\\nвишнёвый ликер мараскино BOLS 15\\tмл\\nСироп маракуйи 15\\tмл\\nЛаймовый сок 10\\tмл\\nНалей в стопку сироп маракуйи \\nИспользуя коктейльную ложку, уложи слоями ликер мараскино, лаймовый сок и сверхкрепкий ром \\nисточник: https://ru.inshaker.com/cocktails/745-raul-i-fidel',)\n",
            "('Шоколадное чудо\\n\\nмолоко – 200 мл;\\nсахарный песок 1 ст. л.\\nшоколадная плитка 100 г (растопленный шоколад)\\nшоколадный ликер – 50 грамм;\\nМолоко налейте в кастрюлю, хорошо подогрейте и снимите с плиты.\\nРастворите в нем сахар и шоколадную плитку, предварительно поломав ее на кусочки. Все тщательно перемешайте.\\nШоколадно-молочную смесь остудите, добавьте в нее ликер и перемешайте.\\nНа дно бокала положите кубики льда и наполните его «Шоколадным Чудом».\\nисточник: http://www.alcorecept.ru/koktejli/molochnye-alkogolnye-koktejli.html',)\n",
            "(\"Надежды ангела\\nанглийское название: Angel's Hope[1]\\n\\nодин из рецептов[править]\\nяблочный бренди кальвадос – 20 мл;\\nджин – 20 мл;\\nликер апельсиновый (Куантро, Трипл Сек и т.п.) – 20 мл.\\nИсточник: https://alkolife.ru/brandy/kalvados-v-domashnix-usloviyax.html\\nсм.также:\\n\\nhttp://sochi.org.ru/Napitki/ Аперитивы\\nПримечания[править]\\n\\n\\n↑  http://sochi.org.ru/Napitki/ Аперитивы\",)\n"
          ]
        }
      ]
    },
    {
      "cell_type": "code",
      "source": [
        "texts = [row[0] for row in rows]\n",
        "seed_text = \"Что делать если\""
      ],
      "metadata": {
        "id": "hriLgC_KqgPY"
      },
      "execution_count": 5,
      "outputs": []
    },
    {
      "cell_type": "markdown",
      "source": [
        "SRNN с посимвольной токенизацией"
      ],
      "metadata": {
        "id": "Vve4oy2ndEVV"
      }
    },
    {
      "cell_type": "code",
      "source": [
        "text = ' '.join(texts)\n",
        "# Создаем токенизатор для символов\n",
        "tokenizer = Tokenizer(char_level=True)\n",
        "tokenizer.fit_on_texts(text)\n",
        "vocab_size = len(tokenizer.word_index) + 1\n",
        "\n",
        "# Преобразуем текст в последовательности символов\n",
        "sequences = tokenizer.texts_to_sequences([text])[0]\n",
        "max_sequence_length = 40  # Длина входной последовательности для RNN\n",
        "step = 3  # Шаг между последовательностями\n",
        "\n",
        "X = []\n",
        "y = []\n",
        "\n",
        "for i in range(0, len(sequences) - max_sequence_length, step):\n",
        "    X.append(sequences[i:i + max_sequence_length])\n",
        "    y.append(sequences[i + max_sequence_length])\n",
        "\n",
        "X = np.array(X)\n",
        "y = to_categorical(y, num_classes=vocab_size)"
      ],
      "metadata": {
        "id": "s46COrIBqFoL"
      },
      "execution_count": 15,
      "outputs": []
    },
    {
      "cell_type": "code",
      "source": [
        "# Функция для генерации текста на основе символов\n",
        "def generate_text_char(model, tokenizer, seed_text, max_sequence_length, num_chars):\n",
        "    reverse_word_index = {index: char for char, index in tokenizer.word_index.items()}\n",
        "\n",
        "    def index_to_char(index):\n",
        "        return reverse_word_index.get(index, '')\n",
        "\n",
        "    result = seed_text\n",
        "    for _ in range(num_chars):\n",
        "        # Преобразуем seed_text в последовательность индексов\n",
        "        encoded = tokenizer.texts_to_sequences([seed_text])[0]\n",
        "        encoded = pad_sequences([encoded], maxlen=max_sequence_length, padding='post')\n",
        "\n",
        "        # Предсказываем следующий символ\n",
        "        predicted_probs = model.predict(encoded, verbose=0)\n",
        "        predicted_char_index = np.argmax(predicted_probs)\n",
        "\n",
        "        # Преобразуем индекс в символ\n",
        "        predicted_char = index_to_char(predicted_char_index)\n",
        "\n",
        "        # Добавляем символ к текущему seed тексту\n",
        "        seed_text = seed_text[1:] + predicted_char\n",
        "        result += predicted_char\n",
        "\n",
        "    return result"
      ],
      "metadata": {
        "id": "oSfKYcuXqSqb"
      },
      "execution_count": 16,
      "outputs": []
    },
    {
      "cell_type": "code",
      "source": [
        "# Создаем модель\n",
        "model_char = Sequential([\n",
        "    Embedding(vocab_size, 50, input_length=max_sequence_length),\n",
        "    SimpleRNN(128),\n",
        "    Dense(vocab_size, activation='softmax')\n",
        "])\n",
        "\n",
        "model_char.compile(loss='categorical_crossentropy', optimizer='adam', metrics=['accuracy'])\n",
        "\n",
        "# Обучаем модель\n",
        "model_char.fit(X, y, batch_size=64, epochs=8, validation_split=0.2)\n",
        "\n",
        "\n",
        "\n"
      ],
      "metadata": {
        "colab": {
          "base_uri": "https://localhost:8080/"
        },
        "id": "k_JGC63Shvvk",
        "outputId": "d0ded4b5-0863-41ce-d3ce-3020f5a25102"
      },
      "execution_count": 17,
      "outputs": [
        {
          "output_type": "stream",
          "name": "stdout",
          "text": [
            "Epoch 1/8\n",
            "\u001b[1m2033/2033\u001b[0m \u001b[32m━━━━━━━━━━━━━━━━━━━━\u001b[0m\u001b[37m\u001b[0m \u001b[1m22s\u001b[0m 9ms/step - accuracy: 0.1818 - loss: 3.5280 - val_accuracy: 0.2452 - val_loss: 2.8883\n",
            "Epoch 2/8\n",
            "\u001b[1m2033/2033\u001b[0m \u001b[32m━━━━━━━━━━━━━━━━━━━━\u001b[0m\u001b[37m\u001b[0m \u001b[1m14s\u001b[0m 7ms/step - accuracy: 0.3055 - loss: 2.5824 - val_accuracy: 0.2818 - val_loss: 2.7511\n",
            "Epoch 3/8\n",
            "\u001b[1m2033/2033\u001b[0m \u001b[32m━━━━━━━━━━━━━━━━━━━━\u001b[0m\u001b[37m\u001b[0m \u001b[1m21s\u001b[0m 7ms/step - accuracy: 0.3543 - loss: 2.3715 - val_accuracy: 0.2999 - val_loss: 2.6931\n",
            "Epoch 4/8\n",
            "\u001b[1m2033/2033\u001b[0m \u001b[32m━━━━━━━━━━━━━━━━━━━━\u001b[0m\u001b[37m\u001b[0m \u001b[1m14s\u001b[0m 7ms/step - accuracy: 0.3907 - loss: 2.2302 - val_accuracy: 0.3211 - val_loss: 2.6575\n",
            "Epoch 5/8\n",
            "\u001b[1m2033/2033\u001b[0m \u001b[32m━━━━━━━━━━━━━━━━━━━━\u001b[0m\u001b[37m\u001b[0m \u001b[1m20s\u001b[0m 7ms/step - accuracy: 0.4163 - loss: 2.1281 - val_accuracy: 0.3277 - val_loss: 2.6436\n",
            "Epoch 6/8\n",
            "\u001b[1m2033/2033\u001b[0m \u001b[32m━━━━━━━━━━━━━━━━━━━━\u001b[0m\u001b[37m\u001b[0m \u001b[1m22s\u001b[0m 7ms/step - accuracy: 0.4397 - loss: 2.0455 - val_accuracy: 0.3295 - val_loss: 2.6595\n",
            "Epoch 7/8\n",
            "\u001b[1m2033/2033\u001b[0m \u001b[32m━━━━━━━━━━━━━━━━━━━━\u001b[0m\u001b[37m\u001b[0m \u001b[1m20s\u001b[0m 7ms/step - accuracy: 0.4540 - loss: 1.9949 - val_accuracy: 0.3424 - val_loss: 2.6404\n",
            "Epoch 8/8\n",
            "\u001b[1m2033/2033\u001b[0m \u001b[32m━━━━━━━━━━━━━━━━━━━━\u001b[0m\u001b[37m\u001b[0m \u001b[1m20s\u001b[0m 7ms/step - accuracy: 0.4643 - loss: 1.9560 - val_accuracy: 0.3427 - val_loss: 2.6560\n"
          ]
        },
        {
          "output_type": "execute_result",
          "data": {
            "text/plain": [
              "<keras.src.callbacks.history.History at 0x7b3ff99b8a60>"
            ]
          },
          "metadata": {},
          "execution_count": 17
        }
      ]
    },
    {
      "cell_type": "code",
      "source": [
        "# Используем функцию для генерации текста\n",
        "\n",
        "generated_text = generate_text_char(model_char, tokenizer, seed_text, max_sequence_length, num_chars=100)\n",
        "print(generated_text)"
      ],
      "metadata": {
        "colab": {
          "base_uri": "https://localhost:8080/"
        },
        "id": "JDWnBxTFqW3k",
        "outputId": "48e6395e-3623-4071-d205-5c895088d027"
      },
      "execution_count": 18,
      "outputs": [
        {
          "output_type": "stream",
          "name": "stdout",
          "text": [
            "Что делать если     .  --   .  .      --   .      --   .      --   .      --   .      --   .      --   .      --   \n"
          ]
        }
      ]
    },
    {
      "cell_type": "markdown",
      "source": [
        "Однонаправленная однослойная LSTM с посимвольной токенизацией"
      ],
      "metadata": {
        "id": "SjZIKuMNmV3e"
      }
    },
    {
      "cell_type": "code",
      "source": [
        "# Создаем модель однослойной LSTM\n",
        "model_char = Sequential([\n",
        "    Embedding(vocab_size, 50, input_length=max_sequence_length),\n",
        "    LSTM(128),  # Однонаправленная однослойная LSTM\n",
        "    Dense(vocab_size, activation='softmax')\n",
        "])\n",
        "\n",
        "model_char.compile(loss='categorical_crossentropy', optimizer='adam', metrics=['accuracy'])\n",
        "\n",
        "# Обучаем модель\n",
        "model_char.fit(X, y, batch_size=64, epochs=10, validation_split=0.2)\n",
        "\n",
        "\n",
        "generated_text_char = generate_text_char(model_char, tokenizer, seed_text, max_sequence_length, num_chars=100)\n",
        "print(\"Generated Text (Char):\", generated_text_char)"
      ],
      "metadata": {
        "colab": {
          "base_uri": "https://localhost:8080/"
        },
        "id": "C10PZNEGmWkn",
        "outputId": "ce9b8776-63a8-4f07-9d25-171708fbeddd"
      },
      "execution_count": 19,
      "outputs": [
        {
          "output_type": "stream",
          "name": "stdout",
          "text": [
            "Epoch 1/10\n",
            "\u001b[1m2033/2033\u001b[0m \u001b[32m━━━━━━━━━━━━━━━━━━━━\u001b[0m\u001b[37m\u001b[0m \u001b[1m15s\u001b[0m 7ms/step - accuracy: 0.1769 - loss: 3.4604 - val_accuracy: 0.2250 - val_loss: 2.9693\n",
            "Epoch 2/10\n",
            "\u001b[1m2033/2033\u001b[0m \u001b[32m━━━━━━━━━━━━━━━━━━━━\u001b[0m\u001b[37m\u001b[0m \u001b[1m14s\u001b[0m 7ms/step - accuracy: 0.2647 - loss: 2.7135 - val_accuracy: 0.2518 - val_loss: 2.8470\n",
            "Epoch 3/10\n",
            "\u001b[1m2033/2033\u001b[0m \u001b[32m━━━━━━━━━━━━━━━━━━━━\u001b[0m\u001b[37m\u001b[0m \u001b[1m20s\u001b[0m 7ms/step - accuracy: 0.3025 - loss: 2.5430 - val_accuracy: 0.2728 - val_loss: 2.7681\n",
            "Epoch 4/10\n",
            "\u001b[1m2033/2033\u001b[0m \u001b[32m━━━━━━━━━━━━━━━━━━━━\u001b[0m\u001b[37m\u001b[0m \u001b[1m21s\u001b[0m 7ms/step - accuracy: 0.3268 - loss: 2.4249 - val_accuracy: 0.2871 - val_loss: 2.7150\n",
            "Epoch 5/10\n",
            "\u001b[1m2033/2033\u001b[0m \u001b[32m━━━━━━━━━━━━━━━━━━━━\u001b[0m\u001b[37m\u001b[0m \u001b[1m15s\u001b[0m 7ms/step - accuracy: 0.3522 - loss: 2.3240 - val_accuracy: 0.2984 - val_loss: 2.6861\n",
            "Epoch 6/10\n",
            "\u001b[1m2033/2033\u001b[0m \u001b[32m━━━━━━━━━━━━━━━━━━━━\u001b[0m\u001b[37m\u001b[0m \u001b[1m20s\u001b[0m 7ms/step - accuracy: 0.3757 - loss: 2.2429 - val_accuracy: 0.3049 - val_loss: 2.6644\n",
            "Epoch 7/10\n",
            "\u001b[1m2033/2033\u001b[0m \u001b[32m━━━━━━━━━━━━━━━━━━━━\u001b[0m\u001b[37m\u001b[0m \u001b[1m15s\u001b[0m 7ms/step - accuracy: 0.3952 - loss: 2.1710 - val_accuracy: 0.3138 - val_loss: 2.6424\n",
            "Epoch 8/10\n",
            "\u001b[1m2033/2033\u001b[0m \u001b[32m━━━━━━━━━━━━━━━━━━━━\u001b[0m\u001b[37m\u001b[0m \u001b[1m14s\u001b[0m 7ms/step - accuracy: 0.4133 - loss: 2.1094 - val_accuracy: 0.3223 - val_loss: 2.6333\n",
            "Epoch 9/10\n",
            "\u001b[1m2033/2033\u001b[0m \u001b[32m━━━━━━━━━━━━━━━━━━━━\u001b[0m\u001b[37m\u001b[0m \u001b[1m21s\u001b[0m 7ms/step - accuracy: 0.4238 - loss: 2.0671 - val_accuracy: 0.3308 - val_loss: 2.6215\n",
            "Epoch 10/10\n",
            "\u001b[1m2033/2033\u001b[0m \u001b[32m━━━━━━━━━━━━━━━━━━━━\u001b[0m\u001b[37m\u001b[0m \u001b[1m20s\u001b[0m 7ms/step - accuracy: 0.4376 - loss: 2.0164 - val_accuracy: 0.3308 - val_loss: 2.6162\n",
            "Generated Text (Char): Что делать если\n",
            "\n",
            "\n",
            "\n",
            "\n",
            "\n",
            "\n",
            "\n",
            "\n",
            "\n",
            "-\n",
            "\n",
            "-\n",
            "-\n",
            "\n",
            "-\n",
            "\n",
            "\n",
            "\n",
            "\n",
            "\n",
            "\n",
            "\n",
            "\n",
            "\n",
            "-\n",
            "\n",
            "-\n",
            "-\n",
            "\n",
            "-\n",
            "\n",
            "\n",
            "\n",
            "\n",
            "\n",
            "\n",
            "\n",
            "\n",
            "\n",
            "-\n",
            "\n",
            "-\n",
            "-\n",
            "\n",
            "-\n",
            "\n",
            "\n",
            "\n",
            "\n",
            "\n",
            "\n",
            "\n",
            "\n",
            "\n",
            "-\n",
            "\n",
            "-\n",
            "-\n",
            "\n",
            "-\n",
            "\n",
            "\n",
            "\n",
            "\n",
            "\n",
            "\n",
            "\n",
            "\n",
            "\n",
            "-\n",
            "\n",
            "-\n",
            "-\n",
            "\n",
            "-\n",
            "\n",
            "\n",
            "\n",
            "\n",
            "\n"
          ]
        }
      ]
    },
    {
      "cell_type": "markdown",
      "source": [
        "Однонаправленная многослойная LSTM с посимвольной токенизацией"
      ],
      "metadata": {
        "id": "dTb2xlAdmZDM"
      }
    },
    {
      "cell_type": "code",
      "source": [
        "# Создаем модель многослойной LSTM\n",
        "model_char_multi = Sequential([\n",
        "    Embedding(vocab_size, 50, input_length=max_sequence_length),\n",
        "    LSTM(128, return_sequences=True),\n",
        "    LSTM(128),\n",
        "    Dense(vocab_size, activation='softmax')\n",
        "])\n",
        "\n",
        "model_char_multi.compile(loss='categorical_crossentropy', optimizer='adam', metrics=['accuracy'])\n",
        "\n",
        "# Обучаем модель\n",
        "model_char_multi.fit(X, y, batch_size=64, epochs=10, validation_split=0.2)\n",
        "\n",
        "# Используем ту же функцию для генерации текста\n",
        "generated_text_char_multi = generate_text_char(model_char_multi, tokenizer, seed_text, max_sequence_length, num_chars=100)\n",
        "print(\"Generated Text (Multi-layer Char):\", generated_text_char_multi)"
      ],
      "metadata": {
        "colab": {
          "base_uri": "https://localhost:8080/"
        },
        "id": "DzO9fsS4mb4_",
        "outputId": "a35dc967-81b4-4bec-ff69-08ec62326e4a"
      },
      "execution_count": 20,
      "outputs": [
        {
          "output_type": "stream",
          "name": "stdout",
          "text": [
            "Epoch 1/10\n",
            "\u001b[1m2033/2033\u001b[0m \u001b[32m━━━━━━━━━━━━━━━━━━━━\u001b[0m\u001b[37m\u001b[0m \u001b[1m22s\u001b[0m 10ms/step - accuracy: 0.1566 - loss: 3.6712 - val_accuracy: 0.1910 - val_loss: 3.0871\n",
            "Epoch 2/10\n",
            "\u001b[1m2033/2033\u001b[0m \u001b[32m━━━━━━━━━━━━━━━━━━━━\u001b[0m\u001b[37m\u001b[0m \u001b[1m19s\u001b[0m 10ms/step - accuracy: 0.2352 - loss: 2.8179 - val_accuracy: 0.2381 - val_loss: 2.9022\n",
            "Epoch 3/10\n",
            "\u001b[1m2033/2033\u001b[0m \u001b[32m━━━━━━━━━━━━━━━━━━━━\u001b[0m\u001b[37m\u001b[0m \u001b[1m19s\u001b[0m 9ms/step - accuracy: 0.2776 - loss: 2.6381 - val_accuracy: 0.2601 - val_loss: 2.8180\n",
            "Epoch 4/10\n",
            "\u001b[1m2033/2033\u001b[0m \u001b[32m━━━━━━━━━━━━━━━━━━━━\u001b[0m\u001b[37m\u001b[0m \u001b[1m21s\u001b[0m 10ms/step - accuracy: 0.3044 - loss: 2.5263 - val_accuracy: 0.2778 - val_loss: 2.7571\n",
            "Epoch 5/10\n",
            "\u001b[1m2033/2033\u001b[0m \u001b[32m━━━━━━━━━━━━━━━━━━━━\u001b[0m\u001b[37m\u001b[0m \u001b[1m21s\u001b[0m 10ms/step - accuracy: 0.3299 - loss: 2.4250 - val_accuracy: 0.2896 - val_loss: 2.7287\n",
            "Epoch 6/10\n",
            "\u001b[1m2033/2033\u001b[0m \u001b[32m━━━━━━━━━━━━━━━━━━━━\u001b[0m\u001b[37m\u001b[0m \u001b[1m19s\u001b[0m 9ms/step - accuracy: 0.3515 - loss: 2.3404 - val_accuracy: 0.2978 - val_loss: 2.7012\n",
            "Epoch 7/10\n",
            "\u001b[1m2033/2033\u001b[0m \u001b[32m━━━━━━━━━━━━━━━━━━━━\u001b[0m\u001b[37m\u001b[0m \u001b[1m21s\u001b[0m 10ms/step - accuracy: 0.3753 - loss: 2.2590 - val_accuracy: 0.3093 - val_loss: 2.6714\n",
            "Epoch 8/10\n",
            "\u001b[1m2033/2033\u001b[0m \u001b[32m━━━━━━━━━━━━━━━━━━━━\u001b[0m\u001b[37m\u001b[0m \u001b[1m19s\u001b[0m 9ms/step - accuracy: 0.3912 - loss: 2.1940 - val_accuracy: 0.3211 - val_loss: 2.6547\n",
            "Epoch 9/10\n",
            "\u001b[1m2033/2033\u001b[0m \u001b[32m━━━━━━━━━━━━━━━━━━━━\u001b[0m\u001b[37m\u001b[0m \u001b[1m20s\u001b[0m 10ms/step - accuracy: 0.4087 - loss: 2.1236 - val_accuracy: 0.3298 - val_loss: 2.6333\n",
            "Epoch 10/10\n",
            "\u001b[1m2033/2033\u001b[0m \u001b[32m━━━━━━━━━━━━━━━━━━━━\u001b[0m\u001b[37m\u001b[0m \u001b[1m20s\u001b[0m 10ms/step - accuracy: 0.4261 - loss: 2.0668 - val_accuracy: 0.3357 - val_loss: 2.6163\n",
            "Generated Text (Multi-layer Char): Что делать если    /bb////b,,)))),,)------\n",
            "\n",
            "\n",
            "\n",
            "\n",
            " )------------------------------------------------------------------\n"
          ]
        }
      ]
    },
    {
      "cell_type": "markdown",
      "source": [
        "Двунаправленная LSTM с посимвольной токенизацией"
      ],
      "metadata": {
        "id": "nAAvbEKQw8AI"
      }
    },
    {
      "cell_type": "code",
      "source": [
        "# Создаем модель двунаправленной LSTM\n",
        "model_char_bidir = Sequential([\n",
        "    Embedding(vocab_size, 50, input_length=max_sequence_length),\n",
        "    Bidirectional(LSTM(128)),\n",
        "    Dense(vocab_size, activation='softmax')\n",
        "])\n",
        "\n",
        "model_char_bidir.compile(loss='categorical_crossentropy', optimizer='adam', metrics=['accuracy'])\n",
        "\n",
        "# Обучаем модель\n",
        "model_char_bidir.fit(X, y, batch_size=64, epochs=10, validation_split=0.2)\n",
        "\n",
        "\n",
        "generated_text_char = generate_text_char(model_char_bidir, tokenizer, seed_text, max_sequence_length, num_chars=100)\n",
        "print(\"Generated Text (Bidirectional Char):\", generated_text_char)"
      ],
      "metadata": {
        "colab": {
          "base_uri": "https://localhost:8080/"
        },
        "id": "-f5lWumLxAQ8",
        "outputId": "c005bf9f-b4f4-401d-fe01-38a973f3d71b"
      },
      "execution_count": null,
      "outputs": [
        {
          "output_type": "stream",
          "name": "stdout",
          "text": [
            "Epoch 1/2\n",
            "\u001b[1m381/381\u001b[0m \u001b[32m━━━━━━━━━━━━━━━━━━━━\u001b[0m\u001b[37m\u001b[0m \u001b[1m75s\u001b[0m 188ms/step - accuracy: 0.2017 - loss: 3.5202 - val_accuracy: 0.1797 - val_loss: 3.2093\n",
            "Epoch 2/2\n",
            "\u001b[1m381/381\u001b[0m \u001b[32m━━━━━━━━━━━━━━━━━━━━\u001b[0m\u001b[37m\u001b[0m \u001b[1m78s\u001b[0m 177ms/step - accuracy: 0.2984 - loss: 2.6790 - val_accuracy: 0.2633 - val_loss: 2.8756\n",
            "Generated Text (Bidirectional Char): Что делать если   ,,,,)))))))))))))),),))))))))))))),),))))))))))))),),))))))))))))),),))))))))))))),),))))))))))))\n"
          ]
        }
      ]
    },
    {
      "cell_type": "markdown",
      "source": [
        "SRNN с пословной токенизацией"
      ],
      "metadata": {
        "id": "yu0CNtFErdBo"
      }
    },
    {
      "cell_type": "code",
      "source": [
        "# Создаем токенизатор для слов\n",
        "tokenizer = Tokenizer()\n",
        "tokenizer.fit_on_texts(texts)\n",
        "vocab_size = len(tokenizer.word_index) + 1\n",
        "\n",
        "# Определяем максимальную длину последовательности\n",
        "max_sequence_length = 10\n",
        "\n",
        "# Преобразуем тексты в последовательности индексов\n",
        "sequences = tokenizer.texts_to_sequences(texts)\n",
        "X = []\n",
        "y = []\n",
        "\n",
        "for sequence in sequences:\n",
        "    for i in range(1, len(sequence)):\n",
        "        n_gram_sequence = sequence[:i + 1]\n",
        "        X.append(n_gram_sequence[:-1])\n",
        "        y.append(n_gram_sequence[-1])\n",
        "\n",
        "# Применяем `pad_sequences` для унификации длины входных данных\n",
        "X = pad_sequences(X, maxlen=max_sequence_length, padding='pre')\n",
        "y = to_categorical(y, num_classes=vocab_size)\n",
        "\n",
        "# Создаем модель\n",
        "model_word = Sequential([\n",
        "    Embedding(vocab_size, 50, input_length=max_sequence_length),\n",
        "    SimpleRNN(128),\n",
        "    Dense(vocab_size, activation='softmax')\n",
        "])\n",
        "\n",
        "model_word.compile(loss='categorical_crossentropy', optimizer='adam', metrics=['accuracy'])\n",
        "\n",
        "# Обучаем модель\n",
        "model_word.fit(X, y, batch_size=64, epochs=10, validation_split=0.2)\n",
        "\n",
        "# Функция для генерации текста на основе слов\n",
        "def generate_text_word(model, tokenizer, seed_text, max_sequence_length, num_words):\n",
        "    reverse_word_index = {index: word for word, index in tokenizer.word_index.items()}\n",
        "\n",
        "    def index_to_word(index):\n",
        "        return reverse_word_index.get(index, '')\n",
        "\n",
        "    result = seed_text\n",
        "    for _ in range(num_words):\n",
        "        # Преобразуем seed_text в последовательность индексов\n",
        "        encoded = tokenizer.texts_to_sequences([seed_text])[0]\n",
        "        encoded = pad_sequences([encoded], maxlen=max_sequence_length, padding='pre')\n",
        "\n",
        "        # Предсказываем следующее слово\n",
        "        predicted_probs = model.predict(encoded, verbose=0)\n",
        "        predicted_word_index = np.argmax(predicted_probs)\n",
        "\n",
        "        # Преобразуем индекс в слово\n",
        "        predicted_word = index_to_word(predicted_word_index)\n",
        "\n",
        "        # Добавляем слово к текущему seed тексту\n",
        "        seed_text += ' ' + predicted_word\n",
        "        result += ' ' + predicted_word\n",
        "\n",
        "    return result\n",
        "\n",
        "# Используем функцию для генерации текста\n",
        "\n",
        "generated_text = generate_text_word(model_word, tokenizer, seed_text, max_sequence_length, num_words=50)\n",
        "print(generated_text)"
      ],
      "metadata": {
        "colab": {
          "base_uri": "https://localhost:8080/"
        },
        "id": "MhB1w30Sres0",
        "outputId": "733bcb87-1a53-49ec-bdf9-89c32e82450b"
      },
      "execution_count": 6,
      "outputs": [
        {
          "output_type": "stream",
          "name": "stderr",
          "text": [
            "/usr/local/lib/python3.10/dist-packages/keras/src/layers/core/embedding.py:90: UserWarning: Argument `input_length` is deprecated. Just remove it.\n",
            "  warnings.warn(\n"
          ]
        },
        {
          "output_type": "stream",
          "name": "stdout",
          "text": [
            "Epoch 1/10\n",
            "\u001b[1m824/824\u001b[0m \u001b[32m━━━━━━━━━━━━━━━━━━━━\u001b[0m\u001b[37m\u001b[0m \u001b[1m15s\u001b[0m 12ms/step - accuracy: 0.0198 - loss: 8.4595 - val_accuracy: 0.0269 - val_loss: 9.2699\n",
            "Epoch 2/10\n",
            "\u001b[1m824/824\u001b[0m \u001b[32m━━━━━━━━━━━━━━━━━━━━\u001b[0m\u001b[37m\u001b[0m \u001b[1m13s\u001b[0m 6ms/step - accuracy: 0.0357 - loss: 7.2385 - val_accuracy: 0.0285 - val_loss: 9.7567\n",
            "Epoch 3/10\n",
            "\u001b[1m824/824\u001b[0m \u001b[32m━━━━━━━━━━━━━━━━━━━━\u001b[0m\u001b[37m\u001b[0m \u001b[1m5s\u001b[0m 6ms/step - accuracy: 0.0766 - loss: 6.3640 - val_accuracy: 0.0332 - val_loss: 10.4670\n",
            "Epoch 4/10\n",
            "\u001b[1m824/824\u001b[0m \u001b[32m━━━━━━━━━━━━━━━━━━━━\u001b[0m\u001b[37m\u001b[0m \u001b[1m6s\u001b[0m 7ms/step - accuracy: 0.1275 - loss: 5.5142 - val_accuracy: 0.0275 - val_loss: 10.7543\n",
            "Epoch 5/10\n",
            "\u001b[1m824/824\u001b[0m \u001b[32m━━━━━━━━━━━━━━━━━━━━\u001b[0m\u001b[37m\u001b[0m \u001b[1m11s\u001b[0m 7ms/step - accuracy: 0.1926 - loss: 4.7577 - val_accuracy: 0.0252 - val_loss: 10.9113\n",
            "Epoch 6/10\n",
            "\u001b[1m824/824\u001b[0m \u001b[32m━━━━━━━━━━━━━━━━━━━━\u001b[0m\u001b[37m\u001b[0m \u001b[1m5s\u001b[0m 6ms/step - accuracy: 0.2677 - loss: 4.1101 - val_accuracy: 0.0275 - val_loss: 11.3986\n",
            "Epoch 7/10\n",
            "\u001b[1m824/824\u001b[0m \u001b[32m━━━━━━━━━━━━━━━━━━━━\u001b[0m\u001b[37m\u001b[0m \u001b[1m5s\u001b[0m 6ms/step - accuracy: 0.3588 - loss: 3.5376 - val_accuracy: 0.0256 - val_loss: 11.4582\n",
            "Epoch 8/10\n",
            "\u001b[1m824/824\u001b[0m \u001b[32m━━━━━━━━━━━━━━━━━━━━\u001b[0m\u001b[37m\u001b[0m \u001b[1m6s\u001b[0m 7ms/step - accuracy: 0.4466 - loss: 3.0399 - val_accuracy: 0.0259 - val_loss: 11.7661\n",
            "Epoch 9/10\n",
            "\u001b[1m824/824\u001b[0m \u001b[32m━━━━━━━━━━━━━━━━━━━━\u001b[0m\u001b[37m\u001b[0m \u001b[1m10s\u001b[0m 7ms/step - accuracy: 0.5306 - loss: 2.5916 - val_accuracy: 0.0261 - val_loss: 12.1900\n",
            "Epoch 10/10\n",
            "\u001b[1m824/824\u001b[0m \u001b[32m━━━━━━━━━━━━━━━━━━━━\u001b[0m\u001b[37m\u001b[0m \u001b[1m10s\u001b[0m 7ms/step - accuracy: 0.6029 - loss: 2.1783 - val_accuracy: 0.0257 - val_loss: 12.4723\n",
            "Что делать если английское название redhead man водка finlandia 15 мл ананасовый сок лайма мл вишнёвый ликёр белый сок мл сироп ликер биттер 1 мл сахарный сироп 2 мл л сок 15 мл сахарный биттер 1 мл ложка лимона первичного р  — г сироп monin 15 мл содовая лайма 20 15 мл лимонный\n"
          ]
        }
      ]
    },
    {
      "cell_type": "markdown",
      "source": [
        "Однонаправленная однослойная LSTM с пословной токенизацией"
      ],
      "metadata": {
        "id": "0_ygYqKbmnDG"
      }
    },
    {
      "cell_type": "code",
      "source": [
        "# Создаем модель однослойной LSTM\n",
        "model_word = Sequential([\n",
        "    Embedding(vocab_size, 50, input_length=max_sequence_length),\n",
        "    LSTM(128),\n",
        "    Dense(vocab_size, activation='softmax')\n",
        "])\n",
        "\n",
        "model_word.compile(loss='categorical_crossentropy', optimizer='adam', metrics=['accuracy'])\n",
        "\n",
        "# Обучаем модель\n",
        "model_word.fit(X, y, batch_size=64, epochs=10, validation_split=0.2)\n",
        "\n",
        "\n",
        "\n",
        "\n",
        "generated_text_word = generate_text_word(model_word, tokenizer, seed_text, max_sequence_length, num_words=50)\n",
        "print(\"Generated Text (Word):\", generated_text_word)"
      ],
      "metadata": {
        "colab": {
          "base_uri": "https://localhost:8080/"
        },
        "id": "AsiNZe45mptj",
        "outputId": "107ed2dc-e905-416f-b5b5-7326fc4f821f"
      },
      "execution_count": 9,
      "outputs": [
        {
          "output_type": "stream",
          "name": "stderr",
          "text": [
            "/usr/local/lib/python3.10/dist-packages/keras/src/layers/core/embedding.py:90: UserWarning: Argument `input_length` is deprecated. Just remove it.\n",
            "  warnings.warn(\n"
          ]
        },
        {
          "output_type": "stream",
          "name": "stdout",
          "text": [
            "Epoch 1/10\n",
            "\u001b[1m824/824\u001b[0m \u001b[32m━━━━━━━━━━━━━━━━━━━━\u001b[0m\u001b[37m\u001b[0m \u001b[1m26s\u001b[0m 25ms/step - accuracy: 0.0171 - loss: 8.5366 - val_accuracy: 0.0262 - val_loss: 9.2075\n",
            "Epoch 2/10\n",
            "\u001b[1m824/824\u001b[0m \u001b[32m━━━━━━━━━━━━━━━━━━━━\u001b[0m\u001b[37m\u001b[0m \u001b[1m18s\u001b[0m 22ms/step - accuracy: 0.0280 - loss: 7.4708 - val_accuracy: 0.0259 - val_loss: 9.6724\n",
            "Epoch 3/10\n",
            "\u001b[1m824/824\u001b[0m \u001b[32m━━━━━━━━━━━━━━━━━━━━\u001b[0m\u001b[37m\u001b[0m \u001b[1m21s\u001b[0m 22ms/step - accuracy: 0.0442 - loss: 6.8876 - val_accuracy: 0.0291 - val_loss: 10.2237\n",
            "Epoch 4/10\n",
            "\u001b[1m824/824\u001b[0m \u001b[32m━━━━━━━━━━━━━━━━━━━━\u001b[0m\u001b[37m\u001b[0m \u001b[1m20s\u001b[0m 22ms/step - accuracy: 0.0693 - loss: 6.2713 - val_accuracy: 0.0340 - val_loss: 10.6018\n",
            "Epoch 5/10\n",
            "\u001b[1m824/824\u001b[0m \u001b[32m━━━━━━━━━━━━━━━━━━━━\u001b[0m\u001b[37m\u001b[0m \u001b[1m20s\u001b[0m 21ms/step - accuracy: 0.0993 - loss: 5.6668 - val_accuracy: 0.0320 - val_loss: 10.9698\n",
            "Epoch 6/10\n",
            "\u001b[1m824/824\u001b[0m \u001b[32m━━━━━━━━━━━━━━━━━━━━\u001b[0m\u001b[37m\u001b[0m \u001b[1m17s\u001b[0m 21ms/step - accuracy: 0.1362 - loss: 5.1131 - val_accuracy: 0.0300 - val_loss: 11.4197\n",
            "Epoch 7/10\n",
            "\u001b[1m824/824\u001b[0m \u001b[32m━━━━━━━━━━━━━━━━━━━━\u001b[0m\u001b[37m\u001b[0m \u001b[1m20s\u001b[0m 24ms/step - accuracy: 0.1762 - loss: 4.6172 - val_accuracy: 0.0274 - val_loss: 11.9174\n",
            "Epoch 8/10\n",
            "\u001b[1m824/824\u001b[0m \u001b[32m━━━━━━━━━━━━━━━━━━━━\u001b[0m\u001b[37m\u001b[0m \u001b[1m18s\u001b[0m 21ms/step - accuracy: 0.2264 - loss: 4.1297 - val_accuracy: 0.0271 - val_loss: 12.0677\n",
            "Epoch 9/10\n",
            "\u001b[1m824/824\u001b[0m \u001b[32m━━━━━━━━━━━━━━━━━━━━\u001b[0m\u001b[37m\u001b[0m \u001b[1m17s\u001b[0m 21ms/step - accuracy: 0.2799 - loss: 3.7147 - val_accuracy: 0.0317 - val_loss: 12.3118\n",
            "Epoch 10/10\n",
            "\u001b[1m824/824\u001b[0m \u001b[32m━━━━━━━━━━━━━━━━━━━━\u001b[0m\u001b[37m\u001b[0m \u001b[1m21s\u001b[0m 21ms/step - accuracy: 0.3429 - loss: 3.3188 - val_accuracy: 0.0303 - val_loss: 12.6212\n",
            "Generated Text (Word): Что делать если и теме окружающей и сервиса команду оружие порт в игре — в режиме данными — отряд warface — — warface mi mi mi mi mi mi вопросы вопросы mi lon tawa ma sina tawa mi — ты ест seme seme li tawa seme — — это смотришь в паучка →\n"
          ]
        }
      ]
    },
    {
      "cell_type": "markdown",
      "source": [
        "Однонаправленная многослойная LSTM с пословной токенизацией"
      ],
      "metadata": {
        "id": "S1NlFi8VmtGu"
      }
    },
    {
      "cell_type": "code",
      "source": [
        "# Создаем модель многослойной LSTM\n",
        "model_word_multi = Sequential([\n",
        "    Embedding(vocab_size, 50, input_length=max_sequence_length),\n",
        "    LSTM(128, return_sequences=True),\n",
        "    LSTM(128),\n",
        "    Dense(vocab_size, activation='softmax')\n",
        "])\n",
        "\n",
        "model_word_multi.compile(loss='categorical_crossentropy', optimizer='adam', metrics=['accuracy'])\n",
        "\n",
        "# Обучаем модель\n",
        "model_word_multi.fit(X, y, batch_size=64, epochs=10, validation_split=0.2)\n",
        "\n",
        "\n",
        "generated_text_word_multi = generate_text_word(model_word_multi, tokenizer, seed_text, max_sequence_length, num_words=50)\n",
        "print(\"Generated Text (Multi-layer Word):\", generated_text_word_multi)"
      ],
      "metadata": {
        "colab": {
          "base_uri": "https://localhost:8080/"
        },
        "id": "xrFTEYXhmv5X",
        "outputId": "7fbbe6c8-9856-4d4a-e407-62a4112de71c"
      },
      "execution_count": 10,
      "outputs": [
        {
          "output_type": "stream",
          "name": "stdout",
          "text": [
            "Epoch 1/10\n",
            "\u001b[1m824/824\u001b[0m \u001b[32m━━━━━━━━━━━━━━━━━━━━\u001b[0m\u001b[37m\u001b[0m \u001b[1m24s\u001b[0m 26ms/step - accuracy: 0.0196 - loss: 8.5639 - val_accuracy: 0.0253 - val_loss: 9.2835\n",
            "Epoch 2/10\n",
            "\u001b[1m824/824\u001b[0m \u001b[32m━━━━━━━━━━━━━━━━━━━━\u001b[0m\u001b[37m\u001b[0m \u001b[1m19s\u001b[0m 23ms/step - accuracy: 0.0296 - loss: 7.5495 - val_accuracy: 0.0240 - val_loss: 9.7553\n",
            "Epoch 3/10\n",
            "\u001b[1m824/824\u001b[0m \u001b[32m━━━━━━━━━━━━━━━━━━━━\u001b[0m\u001b[37m\u001b[0m \u001b[1m21s\u001b[0m 23ms/step - accuracy: 0.0347 - loss: 7.2717 - val_accuracy: 0.0228 - val_loss: 10.0264\n",
            "Epoch 4/10\n",
            "\u001b[1m824/824\u001b[0m \u001b[32m━━━━━━━━━━━━━━━━━━━━\u001b[0m\u001b[37m\u001b[0m \u001b[1m21s\u001b[0m 23ms/step - accuracy: 0.0378 - loss: 6.9823 - val_accuracy: 0.0253 - val_loss: 10.3036\n",
            "Epoch 5/10\n",
            "\u001b[1m824/824\u001b[0m \u001b[32m━━━━━━━━━━━━━━━━━━━━\u001b[0m\u001b[37m\u001b[0m \u001b[1m23s\u001b[0m 26ms/step - accuracy: 0.0502 - loss: 6.6657 - val_accuracy: 0.0238 - val_loss: 10.4617\n",
            "Epoch 6/10\n",
            "\u001b[1m824/824\u001b[0m \u001b[32m━━━━━━━━━━━━━━━━━━━━\u001b[0m\u001b[37m\u001b[0m \u001b[1m19s\u001b[0m 23ms/step - accuracy: 0.0601 - loss: 6.3975 - val_accuracy: 0.0199 - val_loss: 10.7017\n",
            "Epoch 7/10\n",
            "\u001b[1m824/824\u001b[0m \u001b[32m━━━━━━━━━━━━━━━━━━━━\u001b[0m\u001b[37m\u001b[0m \u001b[1m21s\u001b[0m 23ms/step - accuracy: 0.0719 - loss: 6.1491 - val_accuracy: 0.0182 - val_loss: 10.9516\n",
            "Epoch 8/10\n",
            "\u001b[1m824/824\u001b[0m \u001b[32m━━━━━━━━━━━━━━━━━━━━\u001b[0m\u001b[37m\u001b[0m \u001b[1m22s\u001b[0m 25ms/step - accuracy: 0.0861 - loss: 5.8319 - val_accuracy: 0.0160 - val_loss: 11.2354\n",
            "Epoch 9/10\n",
            "\u001b[1m824/824\u001b[0m \u001b[32m━━━━━━━━━━━━━━━━━━━━\u001b[0m\u001b[37m\u001b[0m \u001b[1m39s\u001b[0m 23ms/step - accuracy: 0.0989 - loss: 5.5675 - val_accuracy: 0.0154 - val_loss: 11.5615\n",
            "Epoch 10/10\n",
            "\u001b[1m824/824\u001b[0m \u001b[32m━━━━━━━━━━━━━━━━━━━━\u001b[0m\u001b[37m\u001b[0m \u001b[1m19s\u001b[0m 23ms/step - accuracy: 0.1112 - loss: 5.3105 - val_accuracy: 0.0165 - val_loss: 11.7771\n",
            "Generated Text (Multi-layer Word): Что делать если в velkaa maksa википедии английское название monkey генетив задача пластмасс править вы правильных ответов в вызове акриловых пластмасс править в исполнению в предприятии бокал править пациентка больна в стандарте отделах хирургического язык в стабильная ад не влажный жмём enter получаем в хрипов получаем в хрипов получаем челюсти жмём enter получаем\n"
          ]
        }
      ]
    },
    {
      "cell_type": "markdown",
      "source": [
        "Однонаправленная однослойная LSTM на основе BPE (Byte-Pair Encoding)"
      ],
      "metadata": {
        "id": "QkzQNqEBmyNf"
      }
    },
    {
      "cell_type": "code",
      "source": [
        "# Импорт необходимых библиотек\n",
        "import sentencepiece as spm\n",
        "from keras.preprocessing.sequence import pad_sequences\n",
        "from keras.utils import to_categorical\n",
        "from keras.models import Sequential\n",
        "from keras.layers import Embedding, Bidirectional, LSTM, Dense\n",
        "import numpy as np\n",
        "\n",
        "\n",
        "text = ' '.join(texts)\n",
        "\n",
        "# Запись текста в файл для обучения модели SentencePiece\n",
        "with open('bpe_input.txt', 'w') as f:\n",
        "    f.write(text)\n",
        "\n",
        "# Обучение модели SentencePiece\n",
        "spm.SentencePieceTrainer.train(input='bpe_input.txt', model_prefix='bpe', vocab_size=238, model_type='bpe')\n",
        "\n",
        "# Загрузка обученной модели SentencePiece\n",
        "sp = spm.SentencePieceProcessor()\n",
        "sp.load('bpe.model')\n",
        "\n",
        "# Преобразование текста в последовательности индексов\n",
        "def text_to_bpe_sequences(text, max_sequence_length, step=3):\n",
        "    sequences = sp.encode_as_ids(text)\n",
        "    X = []\n",
        "    y = []\n",
        "    if len(sequences) <= max_sequence_length:\n",
        "        max_sequence_length = len(sequences) - 1\n",
        "        step = 1\n",
        "    for i in range(0, len(sequences) - max_sequence_length, step):\n",
        "        X.append(sequences[i:i + max_sequence_length])\n",
        "        y.append(sequences[i + max_sequence_length])\n",
        "    return np.array(X), to_categorical(y, num_classes=sp.get_piece_size())\n",
        "\n",
        "# Преобразование текста в последовательности BPE индексов\n",
        "max_sequence_length_bpe = 30\n",
        "X_bpe, y_bpe = text_to_bpe_sequences(text, max_sequence_length_bpe)\n",
        "\n",
        "# Создание модели однослойной LSTM на основе BPE\n",
        "model_bpe = Sequential([\n",
        "    Embedding(sp.get_piece_size(), 50, input_length=max_sequence_length_bpe),\n",
        "    LSTM(128),\n",
        "    Dense(sp.get_piece_size(), activation='softmax')\n",
        "])\n",
        "\n",
        "model_bpe.compile(loss='categorical_crossentropy', optimizer='adam', metrics=['accuracy'])\n",
        "\n",
        "# Обучение модели\n",
        "model_bpe.fit(X_bpe, y_bpe, batch_size=64, epochs=10, validation_split=0.2)\n",
        "\n",
        "def generate_text_bpe(model, sp, seed_text, max_sequence_length, num_pieces):\n",
        "    result = seed_text\n",
        "    for _ in range(num_pieces):\n",
        "        encoded = sp.encode_as_ids(seed_text)\n",
        "        encoded = pad_sequences([encoded], maxlen=max_sequence_length, padding='pre')\n",
        "\n",
        "        predicted_probs = model.predict(encoded, verbose=0)\n",
        "        predicted_piece_index = np.argmax(predicted_probs)\n",
        "\n",
        "        predicted_piece_index = int(predicted_piece_index)\n",
        "\n",
        "        predicted_piece = sp.id_to_piece(predicted_piece_index)\n",
        "\n",
        "        result += predicted_piece\n",
        "        seed_text = result  # Обновляем текст для следующей итерации\n",
        "\n",
        "    return result\n",
        "\n",
        "generated_text_bpe = generate_text_bpe(model_bpe, sp, seed_text, max_sequence_length_bpe, num_pieces=50)\n",
        "print(\"Generated Text (BPE):\", generated_text_bpe)"
      ],
      "metadata": {
        "colab": {
          "base_uri": "https://localhost:8080/"
        },
        "id": "Fx53dUAGm0Y-",
        "outputId": "304ea227-f3f8-474f-f42f-7127c9e9eeff"
      },
      "execution_count": 13,
      "outputs": [
        {
          "output_type": "stream",
          "name": "stdout",
          "text": [
            "Epoch 1/10\n",
            "\u001b[1m1940/1940\u001b[0m \u001b[32m━━━━━━━━━━━━━━━━━━━━\u001b[0m\u001b[37m\u001b[0m \u001b[1m14s\u001b[0m 6ms/step - accuracy: 0.1649 - loss: 3.4981 - val_accuracy: 0.2283 - val_loss: 2.9856\n",
            "Epoch 2/10\n",
            "\u001b[1m1940/1940\u001b[0m \u001b[32m━━━━━━━━━━━━━━━━━━━━\u001b[0m\u001b[37m\u001b[0m \u001b[1m21s\u001b[0m 7ms/step - accuracy: 0.2511 - loss: 2.8095 - val_accuracy: 0.2647 - val_loss: 2.8527\n",
            "Epoch 3/10\n",
            "\u001b[1m1940/1940\u001b[0m \u001b[32m━━━━━━━━━━━━━━━━━━━━\u001b[0m\u001b[37m\u001b[0m \u001b[1m20s\u001b[0m 6ms/step - accuracy: 0.2911 - loss: 2.6312 - val_accuracy: 0.2783 - val_loss: 2.7753\n",
            "Epoch 4/10\n",
            "\u001b[1m1940/1940\u001b[0m \u001b[32m━━━━━━━━━━━━━━━━━━━━\u001b[0m\u001b[37m\u001b[0m \u001b[1m22s\u001b[0m 7ms/step - accuracy: 0.3259 - loss: 2.4823 - val_accuracy: 0.3051 - val_loss: 2.7212\n",
            "Epoch 5/10\n",
            "\u001b[1m1940/1940\u001b[0m \u001b[32m━━━━━━━━━━━━━━━━━━━━\u001b[0m\u001b[37m\u001b[0m \u001b[1m19s\u001b[0m 6ms/step - accuracy: 0.3571 - loss: 2.3681 - val_accuracy: 0.3158 - val_loss: 2.6865\n",
            "Epoch 6/10\n",
            "\u001b[1m1940/1940\u001b[0m \u001b[32m━━━━━━━━━━━━━━━━━━━━\u001b[0m\u001b[37m\u001b[0m \u001b[1m12s\u001b[0m 6ms/step - accuracy: 0.3809 - loss: 2.2738 - val_accuracy: 0.3203 - val_loss: 2.6535\n",
            "Epoch 7/10\n",
            "\u001b[1m1940/1940\u001b[0m \u001b[32m━━━━━━━━━━━━━━━━━━━━\u001b[0m\u001b[37m\u001b[0m \u001b[1m20s\u001b[0m 6ms/step - accuracy: 0.3998 - loss: 2.1914 - val_accuracy: 0.3260 - val_loss: 2.6473\n",
            "Epoch 8/10\n",
            "\u001b[1m1940/1940\u001b[0m \u001b[32m━━━━━━━━━━━━━━━━━━━━\u001b[0m\u001b[37m\u001b[0m \u001b[1m20s\u001b[0m 6ms/step - accuracy: 0.4188 - loss: 2.1170 - val_accuracy: 0.3356 - val_loss: 2.6255\n",
            "Epoch 9/10\n",
            "\u001b[1m1940/1940\u001b[0m \u001b[32m━━━━━━━━━━━━━━━━━━━━\u001b[0m\u001b[37m\u001b[0m \u001b[1m22s\u001b[0m 7ms/step - accuracy: 0.4344 - loss: 2.0576 - val_accuracy: 0.3390 - val_loss: 2.6202\n",
            "Epoch 10/10\n",
            "\u001b[1m1940/1940\u001b[0m \u001b[32m━━━━━━━━━━━━━━━━━━━━\u001b[0m\u001b[37m\u001b[0m \u001b[1m19s\u001b[0m 6ms/step - accuracy: 0.4495 - loss: 2.0055 - val_accuracy: 0.3467 - val_loss: 2.6152\n",
            "Generated Text (BPE): Что делать если▁▁▁▁▁▁▁▁▁▁▁▁▁▁▁▁▁▁▁▁▁▁▁▁▁▁▁▁▁▁▁▁▁▁▁▁▁▁▁▁▁▁▁▁▁▁▁▁▁▁\n"
          ]
        }
      ]
    },
    {
      "cell_type": "markdown",
      "source": [
        "Многослойная LSTM на основе BPE"
      ],
      "metadata": {
        "id": "C2NbqNr9nJjE"
      }
    },
    {
      "cell_type": "code",
      "source": [
        "# Создание многослойной модели LSTM на основе BPE\n",
        "model_bpe_multi = Sequential([\n",
        "    Embedding(sp.get_piece_size(), 50, input_length=max_sequence_length_bpe),\n",
        "    LSTM(128, return_sequences=True),\n",
        "    LSTM(128),\n",
        "    Dense(sp.get_piece_size(), activation='softmax')\n",
        "])\n",
        "\n",
        "model_bpe_multi.compile(loss='categorical_crossentropy', optimizer='adam', metrics=['accuracy'])\n",
        "\n",
        "# Обучение модели\n",
        "model_bpe_multi.fit(X_bpe, y_bpe, batch_size=64, epochs=10, validation_split=0.2)\n",
        "\n",
        "# Используем ту же функцию для генерации текста на основе BPE\n",
        "generated_text_bpe_multi = generate_text_bpe(model_bpe_multi, sp, seed_text, max_sequence_length_bpe, num_pieces=50)\n",
        "print(\"Generated Text (Multi-layer BPE):\", generated_text_bpe_multi)"
      ],
      "metadata": {
        "colab": {
          "base_uri": "https://localhost:8080/"
        },
        "id": "arlIkg-InKaQ",
        "outputId": "ee5a0d8c-c6a0-487a-bfc8-39cf9067e80b"
      },
      "execution_count": 14,
      "outputs": [
        {
          "output_type": "stream",
          "name": "stdout",
          "text": [
            "Epoch 1/10\n",
            "\u001b[1m1940/1940\u001b[0m \u001b[32m━━━━━━━━━━━━━━━━━━━━\u001b[0m\u001b[37m\u001b[0m \u001b[1m19s\u001b[0m 9ms/step - accuracy: 0.1536 - loss: 3.5940 - val_accuracy: 0.2136 - val_loss: 3.0470\n",
            "Epoch 2/10\n",
            "\u001b[1m1940/1940\u001b[0m \u001b[32m━━━━━━━━━━━━━━━━━━━━\u001b[0m\u001b[37m\u001b[0m \u001b[1m16s\u001b[0m 8ms/step - accuracy: 0.2288 - loss: 2.9160 - val_accuracy: 0.2387 - val_loss: 2.9419\n",
            "Epoch 3/10\n",
            "\u001b[1m1940/1940\u001b[0m \u001b[32m━━━━━━━━━━━━━━━━━━━━\u001b[0m\u001b[37m\u001b[0m \u001b[1m16s\u001b[0m 8ms/step - accuracy: 0.2601 - loss: 2.7568 - val_accuracy: 0.2550 - val_loss: 2.8597\n",
            "Epoch 4/10\n",
            "\u001b[1m1940/1940\u001b[0m \u001b[32m━━━━━━━━━━━━━━━━━━━━\u001b[0m\u001b[37m\u001b[0m \u001b[1m21s\u001b[0m 8ms/step - accuracy: 0.2870 - loss: 2.6354 - val_accuracy: 0.2737 - val_loss: 2.8031\n",
            "Epoch 5/10\n",
            "\u001b[1m1940/1940\u001b[0m \u001b[32m━━━━━━━━━━━━━━━━━━━━\u001b[0m\u001b[37m\u001b[0m \u001b[1m21s\u001b[0m 8ms/step - accuracy: 0.3123 - loss: 2.5179 - val_accuracy: 0.2899 - val_loss: 2.7638\n",
            "Epoch 6/10\n",
            "\u001b[1m1940/1940\u001b[0m \u001b[32m━━━━━━━━━━━━━━━━━━━━\u001b[0m\u001b[37m\u001b[0m \u001b[1m20s\u001b[0m 8ms/step - accuracy: 0.3387 - loss: 2.4241 - val_accuracy: 0.2998 - val_loss: 2.7285\n",
            "Epoch 7/10\n",
            "\u001b[1m1940/1940\u001b[0m \u001b[32m━━━━━━━━━━━━━━━━━━━━\u001b[0m\u001b[37m\u001b[0m \u001b[1m20s\u001b[0m 8ms/step - accuracy: 0.3603 - loss: 2.3410 - val_accuracy: 0.3118 - val_loss: 2.7036\n",
            "Epoch 8/10\n",
            "\u001b[1m1940/1940\u001b[0m \u001b[32m━━━━━━━━━━━━━━━━━━━━\u001b[0m\u001b[37m\u001b[0m \u001b[1m22s\u001b[0m 9ms/step - accuracy: 0.3808 - loss: 2.2631 - val_accuracy: 0.3176 - val_loss: 2.6908\n",
            "Epoch 9/10\n",
            "\u001b[1m1940/1940\u001b[0m \u001b[32m━━━━━━━━━━━━━━━━━━━━\u001b[0m\u001b[37m\u001b[0m \u001b[1m21s\u001b[0m 9ms/step - accuracy: 0.3985 - loss: 2.1922 - val_accuracy: 0.3321 - val_loss: 2.6604\n",
            "Epoch 10/10\n",
            "\u001b[1m1940/1940\u001b[0m \u001b[32m━━━━━━━━━━━━━━━━━━━━\u001b[0m\u001b[37m\u001b[0m \u001b[1m19s\u001b[0m 8ms/step - accuracy: 0.4130 - loss: 2.1283 - val_accuracy: 0.3317 - val_loss: 2.6538\n",
            "Generated Text (Multi-layer BPE): Что делать если▁▁▁▁▁▁▁▁▁▁▁▁▁▁▁▁▁▁▁▁▁▁▁▁▁▁▁▁▁▁▁▁▁▁▁▁▁▁▁▁▁▁▁▁▁▁▁▁▁▁\n"
          ]
        }
      ]
    }
  ]
}